{
 "cells": [
  {
   "cell_type": "code",
   "execution_count": 16,
   "metadata": {},
   "outputs": [
    {
     "name": "stdout",
     "output_type": "stream",
     "text": [
      "Requirement already satisfied: pandas in c:\\users\\user\\anaconda3\\lib\\site-packages (2.2.2)\n",
      "Requirement already satisfied: statsmodels in c:\\users\\user\\anaconda3\\lib\\site-packages (0.14.2)\n",
      "Requirement already satisfied: matplotlib in c:\\users\\user\\anaconda3\\lib\\site-packages (3.9.0)\n",
      "Requirement already satisfied: numpy>=1.23.2 in c:\\users\\user\\anaconda3\\lib\\site-packages (from pandas) (1.26.4)\n",
      "Requirement already satisfied: python-dateutil>=2.8.2 in c:\\users\\user\\anaconda3\\lib\\site-packages (from pandas) (2.8.2)\n",
      "Requirement already satisfied: pytz>=2020.1 in c:\\users\\user\\anaconda3\\lib\\site-packages (from pandas) (2023.3.post1)\n",
      "Requirement already satisfied: tzdata>=2022.7 in c:\\users\\user\\anaconda3\\lib\\site-packages (from pandas) (2023.3)\n",
      "Requirement already satisfied: scipy!=1.9.2,>=1.8 in c:\\users\\user\\anaconda3\\lib\\site-packages (from statsmodels) (1.11.4)\n",
      "Requirement already satisfied: patsy>=0.5.6 in c:\\users\\user\\anaconda3\\lib\\site-packages (from statsmodels) (0.5.6)\n",
      "Requirement already satisfied: packaging>=21.3 in c:\\users\\user\\anaconda3\\lib\\site-packages (from statsmodels) (23.1)\n",
      "Requirement already satisfied: contourpy>=1.0.1 in c:\\users\\user\\anaconda3\\lib\\site-packages (from matplotlib) (1.2.0)\n",
      "Requirement already satisfied: cycler>=0.10 in c:\\users\\user\\anaconda3\\lib\\site-packages (from matplotlib) (0.11.0)\n",
      "Requirement already satisfied: fonttools>=4.22.0 in c:\\users\\user\\anaconda3\\lib\\site-packages (from matplotlib) (4.25.0)\n",
      "Requirement already satisfied: kiwisolver>=1.3.1 in c:\\users\\user\\anaconda3\\lib\\site-packages (from matplotlib) (1.4.4)\n",
      "Requirement already satisfied: pillow>=8 in c:\\users\\user\\anaconda3\\lib\\site-packages (from matplotlib) (10.2.0)\n",
      "Requirement already satisfied: pyparsing>=2.3.1 in c:\\users\\user\\anaconda3\\lib\\site-packages (from matplotlib) (3.0.9)\n",
      "Requirement already satisfied: six in c:\\users\\user\\anaconda3\\lib\\site-packages (from patsy>=0.5.6->statsmodels) (1.16.0)\n",
      "Note: you may need to restart the kernel to use updated packages.\n"
     ]
    }
   ],
   "source": [
    "%pip install pandas statsmodels matplotlib"
   ]
  },
  {
   "cell_type": "code",
   "execution_count": 17,
   "metadata": {},
   "outputs": [],
   "source": [
    "import pandas as pd\n",
    "import numpy as np\n",
    "import statsmodels.api as sm\n",
    "import matplotlib.pyplot as plt\n",
    "from sklearn.model_selection import train_test_split, TimeSeriesSplit\n",
    "# Calculating forecast accuracy\n",
    "from sklearn.metrics import mean_absolute_error, mean_squared_error\n",
    "import optuna"
   ]
  },
  {
   "cell_type": "code",
   "execution_count": 18,
   "metadata": {},
   "outputs": [],
   "source": [
    "# Load your data\n",
    "# Assuming you have a CSV file with columns: 'date', 'dengue_patient_count', 'precipitation', 'wind_speed', 'temperature'\n",
    "original_df = pd.read_csv('Kandy_df.csv', parse_dates=['Date'], index_col='Date')"
   ]
  },
  {
   "cell_type": "code",
   "execution_count": 19,
   "metadata": {},
   "outputs": [],
   "source": [
    "if \"Predicted\" in original_df.columns:\n",
    "    original_df.drop(['Predicted'],axis=1,inplace=True)"
   ]
  },
  {
   "cell_type": "markdown",
   "metadata": {},
   "source": [
    "#### Data Transformation"
   ]
  },
  {
   "cell_type": "code",
   "execution_count": 20,
   "metadata": {},
   "outputs": [
    {
     "data": {
      "text/plain": [
       "(210, 10)"
      ]
     },
     "execution_count": 20,
     "metadata": {},
     "output_type": "execute_result"
    }
   ],
   "source": [
    "df = original_df.sort_values('Date').copy()\n",
    "df.shape"
   ]
  },
  {
   "cell_type": "code",
   "execution_count": 21,
   "metadata": {},
   "outputs": [],
   "source": [
    "# Check the first few rows of the dataframe\n",
    "df.drop(columns=['station_name','Year','Month'], inplace=True)\n",
    "\n",
    "# Combine 'TMPMAX' and 'TMPMIN' into 'TMPAVG'\n",
    "df['TMPAVG'] = df[['TMPMAX', 'TMPMIN']].mean(axis=1)\n",
    "\n",
    "# Combine 'wind_speed_8_30am' and 'wind_speed_17_30pm' into 'wind_speed_avg'\n",
    "df['wind_speed_avg'] = df[['wind_speed_8_30am', 'wind_speed_17_30pm']].mean(axis=1)\n",
    "\n",
    "# Drop the original columns if no longer needed\n",
    "df = df.drop(columns=['TMPMAX', 'TMPMIN', 'wind_speed_8_30am', 'wind_speed_17_30pm'])"
   ]
  },
  {
   "cell_type": "code",
   "execution_count": 22,
   "metadata": {},
   "outputs": [
    {
     "name": "stdout",
     "output_type": "stream",
     "text": [
      "shape = (210, 5)\n",
      "\n",
      "             humidity  precipitation  patients  TMPAVG  wind_speed_avg\n",
      "Date                                                                  \n",
      "2007-01-01  93.193548      83.300001       120   22.80            2.25\n",
      "2007-02-01  92.428571       1.600000        36   24.40            2.25\n",
      "2007-03-01  92.580645     127.600001        21   25.35            1.20\n",
      "2007-04-01  96.966667     367.099999        16   26.35            1.15\n",
      "2007-05-01  94.580645      63.300001         7   26.05            2.75\n",
      "         humidity  precipitation     patients     TMPAVG  wind_speed_avg\n",
      "count  210.000000     210.000000   210.000000  210.00000      210.000000\n",
      "mean    85.424103     161.861810   282.366667   25.24419        2.424905\n",
      "std      6.459173     134.706375   433.678451    1.22097        1.327040\n",
      "min     36.250000       0.900000     0.000000   14.95000        0.350000\n",
      "25%     81.487500      63.750000    66.250000   24.70000        1.450000\n",
      "50%     84.750000     121.650001   183.500000   25.25000        2.200000\n",
      "75%     89.450000     230.175000   317.000000   25.82250        3.137500\n",
      "max     97.500000     638.400000  4440.000000   29.31000        7.550000\n"
     ]
    }
   ],
   "source": [
    "print(f\"shape = {df.shape}\\n\")\n",
    "print(df.head())\n",
    "print(df.describe())"
   ]
  },
  {
   "cell_type": "markdown",
   "metadata": {},
   "source": [
    "### Spliting of Datasets"
   ]
  },
  {
   "cell_type": "code",
   "execution_count": 23,
   "metadata": {},
   "outputs": [
    {
     "name": "stdout",
     "output_type": "stream",
     "text": [
      "            humidity  precipitation  patients  TMPAVG  wind_speed_avg\n",
      "Date                                                                 \n",
      "2020-08-01     83.55     114.199998       488   25.25            2.95\n",
      "2020-09-01     87.40     219.100000       312   24.80            2.75\n",
      "2020-10-01     84.70      59.500001       202   25.25            2.95\n",
      "2020-11-01     87.45     160.900001       137   25.75            1.10\n",
      "2020-12-01     87.40     189.300001        56   24.40            1.30\n",
      "            humidity  precipitation  patients  TMPAVG  wind_speed_avg\n",
      "Date                                                                 \n",
      "2021-01-01     87.05     143.100002        41   24.50            1.45\n",
      "2021-02-01     80.85      54.600002        51   24.95            2.00\n",
      "2021-03-01     80.40      86.400000       110   25.95            2.00\n",
      "2021-04-01     83.75     285.600001       185   26.40            1.45\n",
      "2021-05-01     87.75     326.900001       132   26.10            1.80\n",
      "            humidity  precipitation  patients  TMPAVG  wind_speed_avg\n",
      "Date                                                                 \n",
      "2024-02-01     81.25      46.699999       421   25.35            3.90\n",
      "2024-03-01     81.80      82.500001       227   25.45            4.25\n",
      "2024-04-01     88.70     518.500001       215   25.90            1.45\n",
      "2024-05-01     83.20     123.199998       361   27.55            1.05\n",
      "2024-06-01     76.40     131.399996       265   26.55            1.70\n"
     ]
    }
   ],
   "source": [
    "# Splitting the data into training and testing sets\n",
    "train_data = df[:'2020']      # train model with data till 2020\n",
    "test_data = df['2021':].copy()   # test dataset 2021-2023\n",
    "\n",
    "print(train_data.tail(5))\n",
    "print(test_data.head(5))\n",
    "print(test_data.tail(5))"
   ]
  },
  {
   "cell_type": "markdown",
   "metadata": {},
   "source": [
    "### Model Training with Optomized HyperParameters \n",
    "##### Best parameters: {'p': 5, 'd': 1, 'q': 5, 'P': 0, 'D': 0, 'Q': 1}"
   ]
  },
  {
   "cell_type": "code",
   "execution_count": 24,
   "metadata": {},
   "outputs": [
    {
     "name": "stderr",
     "output_type": "stream",
     "text": [
      "c:\\Users\\User\\anaconda3\\Lib\\site-packages\\statsmodels\\tsa\\base\\tsa_model.py:473: ValueWarning: No frequency information was provided, so inferred frequency MS will be used.\n",
      "  self._init_dates(dates, freq)\n",
      "c:\\Users\\User\\anaconda3\\Lib\\site-packages\\statsmodels\\tsa\\base\\tsa_model.py:473: ValueWarning: No frequency information was provided, so inferred frequency MS will be used.\n",
      "  self._init_dates(dates, freq)\n",
      "c:\\Users\\User\\anaconda3\\Lib\\site-packages\\statsmodels\\base\\model.py:607: ConvergenceWarning: Maximum Likelihood optimization failed to converge. Check mle_retvals\n",
      "  warnings.warn(\"Maximum Likelihood optimization failed to \"\n"
     ]
    }
   ],
   "source": [
    "# Defining the SARIMAX model\n",
    "tuned_model = sm.tsa.SARIMAX(train_data['patients'],\n",
    "        exog=train_data[['humidity','precipitation','TMPAVG','wind_speed_avg']],\n",
    "        order=(5, 1, 5),\n",
    "                       seasonal_order=(0, 0, 1, 12),  # s =12\n",
    "                       enforce_stationarity=False,\n",
    "                       enforce_invertibility=False)\n",
    "\n",
    "# Fitting the model    \n",
    "final_model_fit = tuned_model.fit(disp=False)"
   ]
  },
  {
   "cell_type": "code",
   "execution_count": 25,
   "metadata": {},
   "outputs": [],
   "source": [
    "# Making predictions for test dataset\n",
    "testdata_forecast = final_model_fit.get_forecast(steps=len(test_data), exog=test_data.drop(['patients'],axis=1))\n",
    "final_forecast_ci = testdata_forecast.conf_int()"
   ]
  },
  {
   "cell_type": "code",
   "execution_count": 26,
   "metadata": {},
   "outputs": [],
   "source": [
    "test_data.loc[:, 'Predicted'] = testdata_forecast.predicted_mean\n",
    "test_data['Predicted'] = test_data['Predicted'].clip(lower=0)"
   ]
  },
  {
   "cell_type": "markdown",
   "metadata": {},
   "source": [
    "#### Visulization"
   ]
  },
  {
   "cell_type": "code",
   "execution_count": 27,
   "metadata": {},
   "outputs": [],
   "source": [
    "# Ensure the test dataset only contains data up to 2023\n",
    "test_data_2023 = test_data[test_data.index <= '2023-12-31']\n",
    "test_data_2024 = test_data[test_data.index > '2023-12-31']"
   ]
  },
  {
   "cell_type": "code",
   "execution_count": 28,
   "metadata": {},
   "outputs": [
    {
     "data": {
      "text/html": [
       "<div>\n",
       "<style scoped>\n",
       "    .dataframe tbody tr th:only-of-type {\n",
       "        vertical-align: middle;\n",
       "    }\n",
       "\n",
       "    .dataframe tbody tr th {\n",
       "        vertical-align: top;\n",
       "    }\n",
       "\n",
       "    .dataframe thead th {\n",
       "        text-align: right;\n",
       "    }\n",
       "</style>\n",
       "<table border=\"1\" class=\"dataframe\">\n",
       "  <thead>\n",
       "    <tr style=\"text-align: right;\">\n",
       "      <th></th>\n",
       "      <th>humidity</th>\n",
       "      <th>precipitation</th>\n",
       "      <th>patients</th>\n",
       "      <th>TMPAVG</th>\n",
       "      <th>wind_speed_avg</th>\n",
       "      <th>Predicted</th>\n",
       "    </tr>\n",
       "    <tr>\n",
       "      <th>Date</th>\n",
       "      <th></th>\n",
       "      <th></th>\n",
       "      <th></th>\n",
       "      <th></th>\n",
       "      <th></th>\n",
       "      <th></th>\n",
       "    </tr>\n",
       "  </thead>\n",
       "  <tbody>\n",
       "    <tr>\n",
       "      <th>2023-08-01</th>\n",
       "      <td>75.60</td>\n",
       "      <td>27.100001</td>\n",
       "      <td>325</td>\n",
       "      <td>26.50</td>\n",
       "      <td>2.40</td>\n",
       "      <td>358.121677</td>\n",
       "    </tr>\n",
       "    <tr>\n",
       "      <th>2023-09-01</th>\n",
       "      <td>85.65</td>\n",
       "      <td>175.100000</td>\n",
       "      <td>625</td>\n",
       "      <td>25.15</td>\n",
       "      <td>1.70</td>\n",
       "      <td>354.978220</td>\n",
       "    </tr>\n",
       "    <tr>\n",
       "      <th>2023-10-01</th>\n",
       "      <td>88.40</td>\n",
       "      <td>505.500002</td>\n",
       "      <td>705</td>\n",
       "      <td>25.50</td>\n",
       "      <td>0.35</td>\n",
       "      <td>356.253986</td>\n",
       "    </tr>\n",
       "    <tr>\n",
       "      <th>2023-11-01</th>\n",
       "      <td>88.75</td>\n",
       "      <td>545.500000</td>\n",
       "      <td>309</td>\n",
       "      <td>26.00</td>\n",
       "      <td>0.60</td>\n",
       "      <td>369.316004</td>\n",
       "    </tr>\n",
       "    <tr>\n",
       "      <th>2023-12-01</th>\n",
       "      <td>89.00</td>\n",
       "      <td>388.199997</td>\n",
       "      <td>415</td>\n",
       "      <td>25.25</td>\n",
       "      <td>1.10</td>\n",
       "      <td>363.912544</td>\n",
       "    </tr>\n",
       "  </tbody>\n",
       "</table>\n",
       "</div>"
      ],
      "text/plain": [
       "            humidity  precipitation  patients  TMPAVG  wind_speed_avg  \\\n",
       "Date                                                                    \n",
       "2023-08-01     75.60      27.100001       325   26.50            2.40   \n",
       "2023-09-01     85.65     175.100000       625   25.15            1.70   \n",
       "2023-10-01     88.40     505.500002       705   25.50            0.35   \n",
       "2023-11-01     88.75     545.500000       309   26.00            0.60   \n",
       "2023-12-01     89.00     388.199997       415   25.25            1.10   \n",
       "\n",
       "             Predicted  \n",
       "Date                    \n",
       "2023-08-01  358.121677  \n",
       "2023-09-01  354.978220  \n",
       "2023-10-01  356.253986  \n",
       "2023-11-01  369.316004  \n",
       "2023-12-01  363.912544  "
      ]
     },
     "execution_count": 28,
     "metadata": {},
     "output_type": "execute_result"
    }
   ],
   "source": [
    "test_data_2023.tail()"
   ]
  },
  {
   "cell_type": "code",
   "execution_count": 29,
   "metadata": {},
   "outputs": [
    {
     "name": "stdout",
     "output_type": "stream",
     "text": [
      "RMSE for test dataset : 95.63820372689993\n",
      "RMSE for 2024 dataset : 187.05365962770094\n"
     ]
    },
    {
     "data": {
      "image/png": "[encoded data removed]",
      "text/plain": [
       "<Figure size 1200x600 with 1 Axes>"
      ]
     },
     "metadata": {},
     "output_type": "display_data"
    }
   ],
   "source": [
    "test_mse = mean_squared_error(test_data_2023['patients'], test_data_2023['Predicted'])\n",
    "final_rmse = np.sqrt(test_mse)\n",
    "print(f\"RMSE for test dataset : {final_rmse}\")\n",
    "\n",
    "test_mse = mean_squared_error(test_data_2024['patients'], test_data_2024['Predicted'])\n",
    "_rmse = np.sqrt(test_mse)\n",
    "print(f\"RMSE for 2024 dataset : {_rmse}\")\n",
    "\n",
    "# Plotting the results\n",
    "plt.figure(figsize=(12, 6))\n",
    "\n",
    "# plot the actual train dataset\n",
    "plt.plot(train_data.index, train_data['patients'], label='Training Data')\n",
    "\n",
    "# plot the test dataset and predictions\n",
    "plt.plot(test_data.index, test_data['patients'], label='Actual Data')\n",
    "plt.plot(test_data.index, testdata_forecast.predicted_mean, label='Forecasted Data')\n",
    "plt.fill_between(test_data.index, final_forecast_ci.iloc[:, 0], final_forecast_ci.iloc[:, 1], color='k', alpha=0.2)\n",
    "\n",
    "\n",
    "plt.xlabel('Date')\n",
    "plt.ylabel('Dengue Patient Count')\n",
    "plt.title('SARIMAX Forecast of Dengue Patient Count')\n",
    "plt.legend()\n",
    "plt.show()"
   ]
  },
  {
   "cell_type": "code",
   "execution_count": 30,
   "metadata": {},
   "outputs": [],
   "source": [
    "# Merge the predictions back into the original DataFrame\n",
    "original_df['Predicted'] = test_data['Predicted']\n",
    "\n",
    "# Save the updated dataframe to CSV\n",
    "original_df.to_csv('Kandy_df.csv')"
   ]
  }
 ],
 "metadata": {
  "kernelspec": {
   "display_name": "Python 3",
   "language": "python",
   "name": "python3"
  },
  "language_info": {
   "codemirror_mode": {
    "name": "ipython",
    "version": 3
   },
   "file_extension": ".py",
   "mimetype": "text/x-python",
   "name": "python",
   "nbconvert_exporter": "python",
   "pygments_lexer": "ipython3",
   "version": "3.11.7"
  }
 },
 "nbformat": 4,
 "nbformat_minor": 2
}
