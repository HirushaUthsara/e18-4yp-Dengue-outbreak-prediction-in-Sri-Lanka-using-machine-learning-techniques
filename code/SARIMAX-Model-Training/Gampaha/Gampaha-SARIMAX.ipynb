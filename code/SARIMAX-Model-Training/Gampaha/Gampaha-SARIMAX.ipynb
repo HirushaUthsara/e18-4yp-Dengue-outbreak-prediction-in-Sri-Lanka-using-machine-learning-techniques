{
 "cells": [
  {
   "cell_type": "code",
   "execution_count": 1,
   "metadata": {},
   "outputs": [
    {
     "name": "stdout",
     "output_type": "stream",
     "text": [
      "Defaulting to user installation because normal site-packages is not writeable\n",
      "Requirement already satisfied: pandas in c:\\users\\dell\\appdata\\roaming\\python\\python310\\site-packages (2.0.3)\n",
      "Requirement already satisfied: statsmodels in c:\\users\\dell\\appdata\\roaming\\python\\python310\\site-packages (0.14.0)\n",
      "Requirement already satisfied: matplotlib in c:\\users\\dell\\appdata\\roaming\\python\\python310\\site-packages (3.7.3)\n",
      "Requirement already satisfied: python-dateutil>=2.8.2 in c:\\users\\dell\\appdata\\roaming\\python\\python310\\site-packages (from pandas) (2.8.2)\n",
      "Requirement already satisfied: pytz>=2020.1 in c:\\users\\dell\\appdata\\roaming\\python\\python310\\site-packages (from pandas) (2023.3.post1)\n",
      "Requirement already satisfied: tzdata>=2022.1 in c:\\users\\dell\\appdata\\roaming\\python\\python310\\site-packages (from pandas) (2023.3)\n",
      "Requirement already satisfied: numpy>=1.21.0 in c:\\users\\dell\\appdata\\roaming\\python\\python310\\site-packages (from pandas) (1.24.4)\n",
      "Requirement already satisfied: scipy!=1.9.2,>=1.4 in c:\\program files\\python310\\lib\\site-packages (from statsmodels) (1.10.1)\n",
      "Requirement already satisfied: patsy>=0.5.2 in c:\\users\\dell\\appdata\\roaming\\python\\python310\\site-packages (from statsmodels) (0.5.3)\n",
      "Requirement already satisfied: packaging>=21.3 in c:\\users\\dell\\appdata\\roaming\\python\\python310\\site-packages (from statsmodels) (23.1)\n",
      "Requirement already satisfied: contourpy>=1.0.1 in c:\\users\\dell\\appdata\\roaming\\python\\python310\\site-packages (from matplotlib) (1.1.0)\n",
      "Requirement already satisfied: cycler>=0.10 in c:\\users\\dell\\appdata\\roaming\\python\\python310\\site-packages (from matplotlib) (0.11.0)\n",
      "Requirement already satisfied: fonttools>=4.22.0 in c:\\users\\dell\\appdata\\roaming\\python\\python310\\site-packages (from matplotlib) (4.42.1)\n",
      "Requirement already satisfied: kiwisolver>=1.0.1 in c:\\users\\dell\\appdata\\roaming\\python\\python310\\site-packages (from matplotlib) (1.4.5)\n",
      "Requirement already satisfied: pillow>=6.2.0 in c:\\users\\dell\\appdata\\roaming\\python\\python310\\site-packages (from matplotlib) (10.0.0)\n",
      "Requirement already satisfied: pyparsing>=2.3.1 in c:\\users\\dell\\appdata\\roaming\\python\\python310\\site-packages (from matplotlib) (3.1.1)\n",
      "Requirement already satisfied: six in c:\\users\\dell\\appdata\\roaming\\python\\python310\\site-packages (from patsy>=0.5.2->statsmodels) (1.16.0)\n",
      "Note: you may need to restart the kernel to use updated packages.\n"
     ]
    },
    {
     "name": "stderr",
     "output_type": "stream",
     "text": [
      "\n",
      "[notice] A new release of pip is available: 24.0 -> 24.1.1\n",
      "[notice] To update, run: python.exe -m pip install --upgrade pip\n"
     ]
    }
   ],
   "source": [
    "%pip install pandas statsmodels matplotlib"
   ]
  },
  {
   "cell_type": "code",
   "execution_count": 2,
   "metadata": {},
   "outputs": [],
   "source": [
    "import pandas as pd\n",
    "import numpy as np\n",
    "import statsmodels.api as sm\n",
    "import matplotlib.pyplot as plt\n",
    "from sklearn.model_selection import train_test_split, TimeSeriesSplit\n",
    "# Calculating forecast accuracy\n",
    "from sklearn.metrics import mean_absolute_error, mean_squared_error\n",
    "import optuna"
   ]
  },
  {
   "cell_type": "code",
   "execution_count": 3,
   "metadata": {},
   "outputs": [],
   "source": [
    "# Load your data\n",
    "# Assuming you have a CSV file with columns: 'date', 'dengue_patient_count', 'precipitation', 'wind_speed', 'temperature'\n",
    "original_df = pd.read_csv('Gampaha_df.csv', parse_dates=['Date'], index_col='Date')"
   ]
  },
  {
   "cell_type": "code",
   "execution_count": 4,
   "metadata": {},
   "outputs": [],
   "source": [
    "if \"Predicted\" in original_df.columns:\n",
    "    original_df.drop(['Predicted'],axis=1,inplace=True)"
   ]
  },
  {
   "cell_type": "markdown",
   "metadata": {},
   "source": [
    "#### Data Transformation"
   ]
  },
  {
   "cell_type": "code",
   "execution_count": 5,
   "metadata": {},
   "outputs": [
    {
     "data": {
      "text/plain": [
       "(210, 10)"
      ]
     },
     "execution_count": 5,
     "metadata": {},
     "output_type": "execute_result"
    }
   ],
   "source": [
    "df = original_df.sort_values('Date').copy()\n",
    "df.shape"
   ]
  },
  {
   "cell_type": "code",
   "execution_count": 6,
   "metadata": {},
   "outputs": [],
   "source": [
    "# Check the first few rows of the dataframe\n",
    "df.drop(columns=['station_name','Year','Month'], inplace=True)\n",
    "\n",
    "# Combine 'TMPMAX' and 'TMPMIN' into 'TMPAVG'\n",
    "df['TMPAVG'] = df[['TMPMAX', 'TMPMIN']].mean(axis=1)\n",
    "\n",
    "# Combine 'wind_speed_8_30am' and 'wind_speed_17_30pm' into 'wind_speed_avg'\n",
    "df['wind_speed_avg'] = df[['wind_speed_8_30am', 'wind_speed_17_30pm']].mean(axis=1)\n",
    "\n",
    "# Drop the original columns if no longer needed\n",
    "df = df.drop(columns=['TMPMAX', 'TMPMIN', 'wind_speed_8_30am', 'wind_speed_17_30pm'])"
   ]
  },
  {
   "cell_type": "code",
   "execution_count": 7,
   "metadata": {},
   "outputs": [
    {
     "name": "stdout",
     "output_type": "stream",
     "text": [
      "shape = (210, 5)\n",
      "\n",
      "             humidity  precipitation  patients  TMPAVG  wind_speed_avg\n",
      "Date                                                                  \n",
      "2007-01-01  85.838710      39.399999        64   27.05           13.50\n",
      "2007-02-01  86.392857       0.000000        44   27.50           10.15\n",
      "2007-03-01  89.741935     112.899999        26   28.25            8.00\n",
      "2007-04-01  93.900000     249.899997        16   28.05            5.60\n",
      "2007-05-01  87.322581     266.299997        17   28.80           11.10\n",
      "         humidity  precipitation      patients      TMPAVG  wind_speed_avg\n",
      "count  210.000000     210.000000    210.000000  210.000000      210.000000\n",
      "mean    84.012640     176.968286    439.395238   27.864810       10.337952\n",
      "std      4.707775     155.358809    871.142082    0.688071        2.547404\n",
      "min     69.750000       0.000000      0.000000   26.150000        3.750000\n",
      "25%     80.700000      59.749999    115.750000   27.362500        8.200000\n",
      "50%     83.950000     134.800000    237.500000   27.850000       10.650000\n",
      "75%     87.131336     244.525002    467.500000   28.350000       12.137500\n",
      "max     94.500000     680.100005  10483.000000   29.850000       15.900000\n"
     ]
    }
   ],
   "source": [
    "print(f\"shape = {df.shape}\\n\")\n",
    "print(df.head())\n",
    "print(df.describe())"
   ]
  },
  {
   "cell_type": "markdown",
   "metadata": {},
   "source": [
    "### Spliting of Datasets"
   ]
  },
  {
   "cell_type": "code",
   "execution_count": 8,
   "metadata": {},
   "outputs": [
    {
     "name": "stdout",
     "output_type": "stream",
     "text": [
      "            humidity  precipitation  patients  TMPAVG  wind_speed_avg\n",
      "Date                                                                 \n",
      "2020-08-01     81.65     108.600000       184   28.10           10.05\n",
      "2020-09-01     86.05     514.200013       160   27.32            6.22\n",
      "2020-10-01     83.65      63.500001        67   27.70            8.45\n",
      "2020-11-01     85.15     313.799994        46   27.60            5.55\n",
      "2020-12-01     84.35     148.600001        47   26.90            7.50\n",
      "            humidity  precipitation  patients  TMPAVG  wind_speed_avg\n",
      "Date                                                                 \n",
      "2021-01-01     83.95     166.400001        72   26.80            7.40\n",
      "2021-02-01     76.40       1.000000        88   27.55           11.50\n",
      "2021-03-01     81.25     209.699995       208   27.65            7.50\n",
      "2021-04-01     82.10     201.600001       169   28.20            8.30\n",
      "2021-05-01     85.20     524.200004       109   27.89            8.95\n",
      "            humidity  precipitation  patients  TMPAVG  wind_speed_avg\n",
      "Date                                                                 \n",
      "2024-02-01      79.6      37.299999       575   28.40           10.65\n",
      "2024-03-01      85.5     315.499999       340   28.05            8.15\n",
      "2024-04-01      80.6     224.720000       240   27.03           13.80\n",
      "2024-05-01      82.9      66.300000       256   28.15           12.95\n",
      "2024-06-01      80.7      13.600000       200   28.35           12.40\n"
     ]
    }
   ],
   "source": [
    "# Splitting the data into training and testing sets\n",
    "train_data = df[:'2020']      # train model with data till 2020\n",
    "test_data = df['2021':].copy()   # test dataset 2021-2023\n",
    "\n",
    "print(train_data.tail(5))\n",
    "print(test_data.head(5))\n",
    "print(test_data.tail(5))"
   ]
  },
  {
   "cell_type": "markdown",
   "metadata": {},
   "source": [
    "### Model Training with Optomized HyperParameters \n",
    "##### Best parameters: {'p': 0, 'd': 0, 'q': 6, 'P': 5, 'D': 1, 'Q': 2}"
   ]
  },
  {
   "cell_type": "code",
   "execution_count": 9,
   "metadata": {},
   "outputs": [
    {
     "name": "stderr",
     "output_type": "stream",
     "text": [
      "C:\\Users\\dell\\AppData\\Roaming\\Python\\Python310\\site-packages\\statsmodels\\tsa\\base\\tsa_model.py:473: ValueWarning: No frequency information was provided, so inferred frequency MS will be used.\n",
      "  self._init_dates(dates, freq)\n",
      "C:\\Users\\dell\\AppData\\Roaming\\Python\\Python310\\site-packages\\statsmodels\\tsa\\base\\tsa_model.py:473: ValueWarning: No frequency information was provided, so inferred frequency MS will be used.\n",
      "  self._init_dates(dates, freq)\n",
      "C:\\Users\\dell\\AppData\\Roaming\\Python\\Python310\\site-packages\\statsmodels\\base\\model.py:607: ConvergenceWarning: Maximum Likelihood optimization failed to converge. Check mle_retvals\n",
      "  warnings.warn(\"Maximum Likelihood optimization failed to \"\n"
     ]
    }
   ],
   "source": [
    "# Defining the SARIMAX model\n",
    "tuned_model = sm.tsa.SARIMAX(train_data['patients'],\n",
    "        exog=train_data[['humidity','precipitation','TMPAVG','wind_speed_avg']],\n",
    "        order=(3, 0, 2),\n",
    "                       seasonal_order=(0, 0, 1, 12),  # s =12\n",
    "                       enforce_stationarity=False,\n",
    "                       enforce_invertibility=False)\n",
    "\n",
    "# Fitting the model    \n",
    "final_model_fit = tuned_model.fit(disp=False)"
   ]
  },
  {
   "cell_type": "code",
   "execution_count": 10,
   "metadata": {},
   "outputs": [],
   "source": [
    "# Making predictions for test dataset\n",
    "testdata_forecast = final_model_fit.get_forecast(steps=len(test_data), exog=test_data.drop(['patients'],axis=1))\n",
    "final_forecast_ci = testdata_forecast.conf_int()"
   ]
  },
  {
   "cell_type": "code",
   "execution_count": 11,
   "metadata": {},
   "outputs": [],
   "source": [
    "test_data.loc[:, 'Predicted'] = testdata_forecast.predicted_mean\n",
    "test_data['Predicted'] = test_data['Predicted'].clip(lower=0)"
   ]
  },
  {
   "cell_type": "markdown",
   "metadata": {},
   "source": [
    "#### Visulization"
   ]
  },
  {
   "cell_type": "code",
   "execution_count": 12,
   "metadata": {},
   "outputs": [],
   "source": [
    "# Ensure the test dataset only contains data up to 2023\n",
    "test_data_2023 = test_data[test_data.index <= '2023-12-31']\n",
    "test_data_2024 = test_data[test_data.index > '2023-12-31']"
   ]
  },
  {
   "cell_type": "code",
   "execution_count": 13,
   "metadata": {},
   "outputs": [
    {
     "data": {
      "text/html": [
       "<div>\n",
       "<style scoped>\n",
       "    .dataframe tbody tr th:only-of-type {\n",
       "        vertical-align: middle;\n",
       "    }\n",
       "\n",
       "    .dataframe tbody tr th {\n",
       "        vertical-align: top;\n",
       "    }\n",
       "\n",
       "    .dataframe thead th {\n",
       "        text-align: right;\n",
       "    }\n",
       "</style>\n",
       "<table border=\"1\" class=\"dataframe\">\n",
       "  <thead>\n",
       "    <tr style=\"text-align: right;\">\n",
       "      <th></th>\n",
       "      <th>humidity</th>\n",
       "      <th>precipitation</th>\n",
       "      <th>patients</th>\n",
       "      <th>TMPAVG</th>\n",
       "      <th>wind_speed_avg</th>\n",
       "      <th>Predicted</th>\n",
       "    </tr>\n",
       "    <tr>\n",
       "      <th>Date</th>\n",
       "      <th></th>\n",
       "      <th></th>\n",
       "      <th></th>\n",
       "      <th></th>\n",
       "      <th></th>\n",
       "      <th></th>\n",
       "    </tr>\n",
       "  </thead>\n",
       "  <tbody>\n",
       "    <tr>\n",
       "      <th>2023-08-01</th>\n",
       "      <td>79.90</td>\n",
       "      <td>45.400000</td>\n",
       "      <td>767</td>\n",
       "      <td>28.80</td>\n",
       "      <td>12.90</td>\n",
       "      <td>688.340888</td>\n",
       "    </tr>\n",
       "    <tr>\n",
       "      <th>2023-09-01</th>\n",
       "      <td>87.75</td>\n",
       "      <td>505.600000</td>\n",
       "      <td>311</td>\n",
       "      <td>27.25</td>\n",
       "      <td>11.75</td>\n",
       "      <td>376.462181</td>\n",
       "    </tr>\n",
       "    <tr>\n",
       "      <th>2023-10-01</th>\n",
       "      <td>88.20</td>\n",
       "      <td>544.299998</td>\n",
       "      <td>532</td>\n",
       "      <td>27.40</td>\n",
       "      <td>6.80</td>\n",
       "      <td>341.442505</td>\n",
       "    </tr>\n",
       "    <tr>\n",
       "      <th>2023-11-01</th>\n",
       "      <td>87.90</td>\n",
       "      <td>600.899995</td>\n",
       "      <td>254</td>\n",
       "      <td>27.90</td>\n",
       "      <td>5.40</td>\n",
       "      <td>384.873313</td>\n",
       "    </tr>\n",
       "    <tr>\n",
       "      <th>2023-12-01</th>\n",
       "      <td>85.05</td>\n",
       "      <td>192.100002</td>\n",
       "      <td>631</td>\n",
       "      <td>28.00</td>\n",
       "      <td>9.20</td>\n",
       "      <td>479.629607</td>\n",
       "    </tr>\n",
       "  </tbody>\n",
       "</table>\n",
       "</div>"
      ],
      "text/plain": [
       "            humidity  precipitation  patients  TMPAVG  wind_speed_avg  \\\n",
       "Date                                                                    \n",
       "2023-08-01     79.90      45.400000       767   28.80           12.90   \n",
       "2023-09-01     87.75     505.600000       311   27.25           11.75   \n",
       "2023-10-01     88.20     544.299998       532   27.40            6.80   \n",
       "2023-11-01     87.90     600.899995       254   27.90            5.40   \n",
       "2023-12-01     85.05     192.100002       631   28.00            9.20   \n",
       "\n",
       "             Predicted  \n",
       "Date                    \n",
       "2023-08-01  688.340888  \n",
       "2023-09-01  376.462181  \n",
       "2023-10-01  341.442505  \n",
       "2023-11-01  384.873313  \n",
       "2023-12-01  479.629607  "
      ]
     },
     "execution_count": 13,
     "metadata": {},
     "output_type": "execute_result"
    }
   ],
   "source": [
    "test_data_2023.tail()"
   ]
  },
  {
   "cell_type": "code",
   "execution_count": 14,
   "metadata": {},
   "outputs": [
    {
     "name": "stdout",
     "output_type": "stream",
     "text": [
      "RMSE for test dataset : 105.13123273183537\n",
      "RMSE for 2024 dataset : 267.3860112540402\n"
     ]
    },
    {
     "data": {
      "image/png": "[encoded data removed]",
      "text/plain": [
       "<Figure size 1200x600 with 1 Axes>"
      ]
     },
     "metadata": {},
     "output_type": "display_data"
    }
   ],
   "source": [
    "test_mse = mean_squared_error(test_data_2023['patients'], test_data_2023['Predicted'])\n",
    "final_rmse = np.sqrt(test_mse)\n",
    "print(f\"RMSE for test dataset : {final_rmse}\")\n",
    "\n",
    "test_mse = mean_squared_error(test_data_2024['patients'], test_data_2024['Predicted'])\n",
    "_rmse = np.sqrt(test_mse)\n",
    "print(f\"RMSE for 2024 dataset : {_rmse}\")\n",
    "\n",
    "# Plotting the results\n",
    "plt.figure(figsize=(12, 6))\n",
    "\n",
    "# plot the actual train dataset\n",
    "plt.plot(train_data.index, train_data['patients'], label='Training Data')\n",
    "\n",
    "# plot the test dataset and predictions\n",
    "plt.plot(test_data.index, test_data['patients'], label='Actual Data')\n",
    "plt.plot(test_data.index, testdata_forecast.predicted_mean, label='Forecasted Data')\n",
    "plt.fill_between(test_data.index, final_forecast_ci.iloc[:, 0], final_forecast_ci.iloc[:, 1], color='k', alpha=0.2)\n",
    "\n",
    "\n",
    "plt.xlabel('Date')\n",
    "plt.ylabel('Dengue Patient Count')\n",
    "plt.title('SARIMAX Forecast of Dengue Patient Count')\n",
    "plt.legend()\n",
    "plt.show()"
   ]
  },
  {
   "cell_type": "code",
   "execution_count": 15,
   "metadata": {},
   "outputs": [],
   "source": [
    "# Merge the predictions back into the original DataFrame\n",
    "original_df['Predicted'] = test_data['Predicted']\n",
    "\n",
    "# Save the updated dataframe to CSV\n",
    "original_df.to_csv('Gampaha_df.csv')"
   ]
  }
 ],
 "metadata": {
  "kernelspec": {
   "display_name": "Python 3",
   "language": "python",
   "name": "python3"
  },
  "language_info": {
   "codemirror_mode": {
    "name": "ipython",
    "version": 3
   },
   "file_extension": ".py",
   "mimetype": "text/x-python",
   "name": "python",
   "nbconvert_exporter": "python",
   "pygments_lexer": "ipython3",
   "version": "3.10.2"
  }
 },
 "nbformat": 4,
 "nbformat_minor": 2
}
