{
 "cells": [
  {
   "cell_type": "code",
   "execution_count": 1,
   "metadata": {},
   "outputs": [
    {
     "name": "stdout",
     "output_type": "stream",
     "text": [
      "Defaulting to user installation because normal site-packages is not writeable\n",
      "Requirement already satisfied: numpy in c:\\users\\dell\\appdata\\roaming\\python\\python310\\site-packages (1.24.4)\n",
      "Requirement already satisfied: pandas in c:\\users\\dell\\appdata\\roaming\\python\\python310\\site-packages (2.0.3)\n",
      "Requirement already satisfied: scikit-learn in c:\\users\\dell\\appdata\\roaming\\python\\python310\\site-packages (1.3.0)\n",
      "Requirement already satisfied: torch in c:\\users\\dell\\appdata\\roaming\\python\\python310\\site-packages (2.0.0+cu117)\n",
      "Requirement already satisfied: python-dateutil>=2.8.2 in c:\\users\\dell\\appdata\\roaming\\python\\python310\\site-packages (from pandas) (2.8.2)\n",
      "Requirement already satisfied: pytz>=2020.1 in c:\\users\\dell\\appdata\\roaming\\python\\python310\\site-packages (from pandas) (2023.3.post1)\n",
      "Requirement already satisfied: tzdata>=2022.1 in c:\\users\\dell\\appdata\\roaming\\python\\python310\\site-packages (from pandas) (2023.3)\n",
      "Requirement already satisfied: scipy>=1.5.0 in c:\\program files\\python310\\lib\\site-packages (from scikit-learn) (1.10.1)\n",
      "Requirement already satisfied: joblib>=1.1.1 in c:\\users\\dell\\appdata\\roaming\\python\\python310\\site-packages (from scikit-learn) (1.3.2)\n",
      "Requirement already satisfied: threadpoolctl>=2.0.0 in c:\\users\\dell\\appdata\\roaming\\python\\python310\\site-packages (from scikit-learn) (3.2.0)\n",
      "Requirement already satisfied: filelock in c:\\users\\dell\\appdata\\roaming\\python\\python310\\site-packages (from torch) (3.7.0)\n",
      "Requirement already satisfied: typing-extensions in c:\\users\\dell\\appdata\\roaming\\python\\python310\\site-packages (from torch) (4.7.1)\n",
      "Requirement already satisfied: sympy in c:\\users\\dell\\appdata\\roaming\\python\\python310\\site-packages (from torch) (1.11.1)\n",
      "Requirement already satisfied: networkx in c:\\users\\dell\\appdata\\roaming\\python\\python310\\site-packages (from torch) (3.0)\n",
      "Requirement already satisfied: jinja2 in c:\\users\\dell\\appdata\\roaming\\python\\python310\\site-packages (from torch) (3.1.2)\n",
      "Requirement already satisfied: six>=1.5 in c:\\users\\dell\\appdata\\roaming\\python\\python310\\site-packages (from python-dateutil>=2.8.2->pandas) (1.16.0)\n",
      "Requirement already satisfied: MarkupSafe>=2.0 in c:\\users\\dell\\appdata\\roaming\\python\\python310\\site-packages (from jinja2->torch) (2.1.3)\n",
      "Requirement already satisfied: mpmath>=0.19 in c:\\users\\dell\\appdata\\roaming\\python\\python310\\site-packages (from sympy->torch) (1.2.1)\n",
      "Note: you may need to restart the kernel to use updated packages.\n"
     ]
    },
    {
     "name": "stderr",
     "output_type": "stream",
     "text": [
      "\n",
      "[notice] A new release of pip is available: 23.1.2 -> 24.0\n",
      "[notice] To update, run: python.exe -m pip install --upgrade pip\n"
     ]
    }
   ],
   "source": [
    "%pip install numpy pandas scikit-learn torch"
   ]
  },
  {
   "cell_type": "code",
   "execution_count": 2,
   "metadata": {},
   "outputs": [],
   "source": [
    "import pandas as pd\n",
    "import numpy as np"
   ]
  },
  {
   "cell_type": "code",
   "execution_count": 3,
   "metadata": {},
   "outputs": [],
   "source": [
    "df = pd.read_csv('Data/Preprocessed Data/final_data.csv')"
   ]
  },
  {
   "cell_type": "code",
   "execution_count": 4,
   "metadata": {},
   "outputs": [
    {
     "data": {
      "text/html": [
       "<div>\n",
       "<style scoped>\n",
       "    .dataframe tbody tr th:only-of-type {\n",
       "        vertical-align: middle;\n",
       "    }\n",
       "\n",
       "    .dataframe tbody tr th {\n",
       "        vertical-align: top;\n",
       "    }\n",
       "\n",
       "    .dataframe thead th {\n",
       "        text-align: right;\n",
       "    }\n",
       "</style>\n",
       "<table border=\"1\" class=\"dataframe\">\n",
       "  <thead>\n",
       "    <tr style=\"text-align: right;\">\n",
       "      <th></th>\n",
       "      <th>Year</th>\n",
       "      <th>Month</th>\n",
       "      <th>station_name</th>\n",
       "      <th>elevation</th>\n",
       "      <th>humidity</th>\n",
       "      <th>TMPMAX</th>\n",
       "      <th>TMPMIN</th>\n",
       "      <th>precipitation</th>\n",
       "      <th>wind_speed_8_30am</th>\n",
       "      <th>wind_speed_17_30pm</th>\n",
       "      <th>patients</th>\n",
       "      <th>Date</th>\n",
       "    </tr>\n",
       "  </thead>\n",
       "  <tbody>\n",
       "    <tr>\n",
       "      <th>0</th>\n",
       "      <td>2007</td>\n",
       "      <td>4</td>\n",
       "      <td>Batticaloa</td>\n",
       "      <td>8</td>\n",
       "      <td>90.100000</td>\n",
       "      <td>31.2</td>\n",
       "      <td>25.1</td>\n",
       "      <td>233.300000</td>\n",
       "      <td>1.9</td>\n",
       "      <td>5.8</td>\n",
       "      <td>12.0</td>\n",
       "      <td>2007-04-01</td>\n",
       "    </tr>\n",
       "    <tr>\n",
       "      <th>1</th>\n",
       "      <td>2007</td>\n",
       "      <td>4</td>\n",
       "      <td>Colombo</td>\n",
       "      <td>7</td>\n",
       "      <td>91.433333</td>\n",
       "      <td>31.7</td>\n",
       "      <td>24.8</td>\n",
       "      <td>374.100007</td>\n",
       "      <td>1.9</td>\n",
       "      <td>5.0</td>\n",
       "      <td>35.0</td>\n",
       "      <td>2007-04-01</td>\n",
       "    </tr>\n",
       "    <tr>\n",
       "      <th>2</th>\n",
       "      <td>2007</td>\n",
       "      <td>4</td>\n",
       "      <td>Galle</td>\n",
       "      <td>12</td>\n",
       "      <td>92.233333</td>\n",
       "      <td>30.8</td>\n",
       "      <td>24.9</td>\n",
       "      <td>342.799994</td>\n",
       "      <td>4.1</td>\n",
       "      <td>6.9</td>\n",
       "      <td>1.0</td>\n",
       "      <td>2007-04-01</td>\n",
       "    </tr>\n",
       "    <tr>\n",
       "      <th>3</th>\n",
       "      <td>2007</td>\n",
       "      <td>4</td>\n",
       "      <td>Gampaha</td>\n",
       "      <td>8</td>\n",
       "      <td>93.900000</td>\n",
       "      <td>31.8</td>\n",
       "      <td>24.3</td>\n",
       "      <td>249.899997</td>\n",
       "      <td>3.5</td>\n",
       "      <td>7.7</td>\n",
       "      <td>16.0</td>\n",
       "      <td>2007-04-01</td>\n",
       "    </tr>\n",
       "    <tr>\n",
       "      <th>4</th>\n",
       "      <td>2007</td>\n",
       "      <td>4</td>\n",
       "      <td>Jaffna</td>\n",
       "      <td>3</td>\n",
       "      <td>NaN</td>\n",
       "      <td>33.8</td>\n",
       "      <td>25.5</td>\n",
       "      <td>39.000000</td>\n",
       "      <td>5.4</td>\n",
       "      <td>8.0</td>\n",
       "      <td>0.0</td>\n",
       "      <td>2007-04-01</td>\n",
       "    </tr>\n",
       "  </tbody>\n",
       "</table>\n",
       "</div>"
      ],
      "text/plain": [
       "   Year  Month station_name  elevation   humidity  TMPMAX  TMPMIN  \\\n",
       "0  2007      4   Batticaloa          8  90.100000    31.2    25.1   \n",
       "1  2007      4      Colombo          7  91.433333    31.7    24.8   \n",
       "2  2007      4        Galle         12  92.233333    30.8    24.9   \n",
       "3  2007      4      Gampaha          8  93.900000    31.8    24.3   \n",
       "4  2007      4       Jaffna          3        NaN    33.8    25.5   \n",
       "\n",
       "   precipitation  wind_speed_8_30am  wind_speed_17_30pm  patients        Date  \n",
       "0     233.300000                1.9                 5.8      12.0  2007-04-01  \n",
       "1     374.100007                1.9                 5.0      35.0  2007-04-01  \n",
       "2     342.799994                4.1                 6.9       1.0  2007-04-01  \n",
       "3     249.899997                3.5                 7.7      16.0  2007-04-01  \n",
       "4      39.000000                5.4                 8.0       0.0  2007-04-01  "
      ]
     },
     "execution_count": 4,
     "metadata": {},
     "output_type": "execute_result"
    }
   ],
   "source": [
    "df.head(5)"
   ]
  },
  {
   "cell_type": "markdown",
   "metadata": {},
   "source": [
    "### Feature engineering"
   ]
  },
  {
   "cell_type": "code",
   "execution_count": 1,
   "metadata": {},
   "outputs": [
    {
     "ename": "NameError",
     "evalue": "name 'pd' is not defined",
     "output_type": "error",
     "traceback": [
      "\u001b[1;31m---------------------------------------------------------------------------\u001b[0m",
      "\u001b[1;31mNameError\u001b[0m                                 Traceback (most recent call last)",
      "Cell \u001b[1;32mIn[1], line 1\u001b[0m\n\u001b[1;32m----> 1\u001b[0m df[\u001b[38;5;124m'\u001b[39m\u001b[38;5;124mDate\u001b[39m\u001b[38;5;124m'\u001b[39m] \u001b[38;5;241m=\u001b[39m \u001b[43mpd\u001b[49m\u001b[38;5;241m.\u001b[39mto_datetime(df[\u001b[38;5;124m'\u001b[39m\u001b[38;5;124mDate\u001b[39m\u001b[38;5;124m'\u001b[39m])\u001b[38;5;241m.\u001b[39mdt\u001b[38;5;241m.\u001b[39mnormalize()\n\u001b[0;32m      2\u001b[0m df[\u001b[38;5;124m'\u001b[39m\u001b[38;5;124mpatients\u001b[39m\u001b[38;5;124m'\u001b[39m] \u001b[38;5;241m=\u001b[39m df\u001b[38;5;241m.\u001b[39mpatients\u001b[38;5;241m.\u001b[39mastype(\u001b[38;5;124m'\u001b[39m\u001b[38;5;124mint64\u001b[39m\u001b[38;5;124m'\u001b[39m)\n",
      "\u001b[1;31mNameError\u001b[0m: name 'pd' is not defined"
     ]
    }
   ],
   "source": [
    "# convert date into date64 datatype\n",
    "df['Date'] = pd.to_datetime(df['Date']).dt.normalize()\n",
    "df['patients'] = df.patients.astype('int64')"
   ]
  },
  {
   "cell_type": "code",
   "execution_count": 6,
   "metadata": {},
   "outputs": [
    {
     "data": {
      "text/plain": [
       "Year                           int64\n",
       "Month                          int64\n",
       "station_name                  object\n",
       "elevation                      int64\n",
       "humidity                     float64\n",
       "TMPMAX                       float64\n",
       "TMPMIN                       float64\n",
       "precipitation                float64\n",
       "wind_speed_8_30am            float64\n",
       "wind_speed_17_30pm           float64\n",
       "patients                       int64\n",
       "Date                  datetime64[ns]\n",
       "dtype: object"
      ]
     },
     "execution_count": 6,
     "metadata": {},
     "output_type": "execute_result"
    }
   ],
   "source": [
    "df.dtypes"
   ]
  },
  {
   "cell_type": "code",
   "execution_count": 7,
   "metadata": {},
   "outputs": [
    {
     "data": {
      "text/plain": [
       "Year                    0\n",
       "Month                   0\n",
       "station_name            0\n",
       "elevation               0\n",
       "humidity               60\n",
       "TMPMAX                 24\n",
       "TMPMIN                 37\n",
       "precipitation           7\n",
       "wind_speed_8_30am     204\n",
       "wind_speed_17_30pm    208\n",
       "patients                0\n",
       "Date                    0\n",
       "dtype: int64"
      ]
     },
     "execution_count": 7,
     "metadata": {},
     "output_type": "execute_result"
    }
   ],
   "source": [
    "df.isna().sum() # check null value count for the each feature"
   ]
  },
  {
   "cell_type": "code",
   "execution_count": 8,
   "metadata": {},
   "outputs": [
    {
     "data": {
      "text/plain": [
       "Index(['Year', 'Month', 'station_name', 'elevation', 'humidity', 'TMPMAX',\n",
       "       'TMPMIN', 'precipitation', 'wind_speed_8_30am', 'wind_speed_17_30pm',\n",
       "       'patients', 'Date'],\n",
       "      dtype='object')"
      ]
     },
     "execution_count": 8,
     "metadata": {},
     "output_type": "execute_result"
    }
   ],
   "source": [
    "df.columns"
   ]
  },
  {
   "cell_type": "markdown",
   "metadata": {},
   "source": [
    "## Imputations "
   ]
  },
  {
   "cell_type": "markdown",
   "metadata": {},
   "source": [
    "#### KNN imputator"
   ]
  },
  {
   "cell_type": "code",
   "execution_count": 9,
   "metadata": {},
   "outputs": [],
   "source": [
    "from sklearn.impute import KNNImputer\n",
    "import pandas as pd\n",
    "\n",
    "# Initialize the KNNImputer\n",
    "knn_imp = KNNImputer(n_neighbors=5)\n",
    "\n",
    "knn_df = df.copy()\n",
    "\n",
    "# Select the columns you want to impute\n",
    "columns_to_impute = ['humidity', 'TMPMAX', 'TMPMIN', 'precipitation', 'wind_speed_8_30am', 'wind_speed_17_30pm']"
   ]
  },
  {
   "cell_type": "code",
   "execution_count": 10,
   "metadata": {},
   "outputs": [],
   "source": [
    "\n",
    "# Perform the imputation on the selected columns\n",
    "imputed_data = knn_imp.fit_transform(knn_df[columns_to_impute])\n",
    "\n",
    "# Convert the imputed data back into a DataFrame\n",
    "imputed_df = pd.DataFrame(imputed_data, columns=columns_to_impute)\n",
    "\n",
    "# Replace the original columns in the DataFrame with the imputed ones\n",
    "knn_df[columns_to_impute] = imputed_df\n"
   ]
  },
  {
   "cell_type": "code",
   "execution_count": 11,
   "metadata": {},
   "outputs": [
    {
     "data": {
      "text/plain": [
       "Year                  0\n",
       "Month                 0\n",
       "station_name          0\n",
       "elevation             0\n",
       "humidity              0\n",
       "TMPMAX                0\n",
       "TMPMIN                0\n",
       "precipitation         0\n",
       "wind_speed_8_30am     0\n",
       "wind_speed_17_30pm    0\n",
       "patients              0\n",
       "Date                  0\n",
       "dtype: int64"
      ]
     },
     "execution_count": 11,
     "metadata": {},
     "output_type": "execute_result"
    }
   ],
   "source": [
    "knn_df.isna().sum()"
   ]
  },
  {
   "cell_type": "markdown",
   "metadata": {},
   "source": [
    "#### Use Iterative Imputer"
   ]
  },
  {
   "cell_type": "code",
   "execution_count": 12,
   "metadata": {},
   "outputs": [],
   "source": [
    "from sklearn.experimental import enable_iterative_imputer  \n",
    "from sklearn.impute import IterativeImputer\n",
    "\n",
    "\n",
    "imp_mean = IterativeImputer(random_state=0)\n",
    "imp_df = imp_mean.fit_transform(df[['humidity', 'TMPMAX', 'TMPMIN', 'precipitation','wind_speed_8_30am', 'wind_speed_17_30pm']])"
   ]
  },
  {
   "cell_type": "markdown",
   "metadata": {},
   "source": [
    "## Model Training"
   ]
  },
  {
   "cell_type": "code",
   "execution_count": 13,
   "metadata": {},
   "outputs": [],
   "source": [
    "import torch\n",
    "import torch.nn as nn"
   ]
  },
  {
   "cell_type": "code",
   "execution_count": 14,
   "metadata": {},
   "outputs": [
    {
     "name": "stdout",
     "output_type": "stream",
     "text": [
      "GPU: NVIDIA GeForce MX330 is available.\n"
     ]
    }
   ],
   "source": [
    "# check cuda availability\n",
    "\n",
    "if torch.cuda.is_available():\n",
    "    print(f\"GPU: {torch.cuda.get_device_name(0)} is available.\")\n",
    "else:\n",
    "    print(\"No GPU available. Training will run on CPU.\")\n"
   ]
  },
  {
   "cell_type": "code",
   "execution_count": 15,
   "metadata": {},
   "outputs": [
    {
     "data": {
      "text/plain": [
       "array(['Batticaloa', 'Colombo', 'Galle', 'Gampaha', 'Jaffna', 'Kandy',\n",
       "       'Kurunegala', 'Puttalam', 'Ratnapura'], dtype=object)"
      ]
     },
     "execution_count": 15,
     "metadata": {},
     "output_type": "execute_result"
    }
   ],
   "source": [
    "knn_df['station_name'].nunique()\n",
    "knn_df['station_name'].unique()"
   ]
  },
  {
   "cell_type": "code",
   "execution_count": 16,
   "metadata": {},
   "outputs": [
    {
     "data": {
      "text/html": [
       "<div>\n",
       "<style scoped>\n",
       "    .dataframe tbody tr th:only-of-type {\n",
       "        vertical-align: middle;\n",
       "    }\n",
       "\n",
       "    .dataframe tbody tr th {\n",
       "        vertical-align: top;\n",
       "    }\n",
       "\n",
       "    .dataframe thead th {\n",
       "        text-align: right;\n",
       "    }\n",
       "</style>\n",
       "<table border=\"1\" class=\"dataframe\">\n",
       "  <thead>\n",
       "    <tr style=\"text-align: right;\">\n",
       "      <th></th>\n",
       "      <th>Year</th>\n",
       "      <th>Month</th>\n",
       "      <th>station_name</th>\n",
       "      <th>elevation</th>\n",
       "      <th>humidity</th>\n",
       "      <th>TMPMAX</th>\n",
       "      <th>TMPMIN</th>\n",
       "      <th>precipitation</th>\n",
       "      <th>wind_speed_8_30am</th>\n",
       "      <th>wind_speed_17_30pm</th>\n",
       "      <th>patients</th>\n",
       "      <th>Date</th>\n",
       "    </tr>\n",
       "  </thead>\n",
       "  <tbody>\n",
       "    <tr>\n",
       "      <th>0</th>\n",
       "      <td>2007</td>\n",
       "      <td>4</td>\n",
       "      <td>Batticaloa</td>\n",
       "      <td>8</td>\n",
       "      <td>90.100000</td>\n",
       "      <td>31.2</td>\n",
       "      <td>25.1</td>\n",
       "      <td>233.300000</td>\n",
       "      <td>1.9</td>\n",
       "      <td>5.8</td>\n",
       "      <td>12</td>\n",
       "      <td>2007-04-01</td>\n",
       "    </tr>\n",
       "    <tr>\n",
       "      <th>1</th>\n",
       "      <td>2007</td>\n",
       "      <td>4</td>\n",
       "      <td>Colombo</td>\n",
       "      <td>7</td>\n",
       "      <td>91.433333</td>\n",
       "      <td>31.7</td>\n",
       "      <td>24.8</td>\n",
       "      <td>374.100007</td>\n",
       "      <td>1.9</td>\n",
       "      <td>5.0</td>\n",
       "      <td>35</td>\n",
       "      <td>2007-04-01</td>\n",
       "    </tr>\n",
       "    <tr>\n",
       "      <th>2</th>\n",
       "      <td>2007</td>\n",
       "      <td>4</td>\n",
       "      <td>Galle</td>\n",
       "      <td>12</td>\n",
       "      <td>92.233333</td>\n",
       "      <td>30.8</td>\n",
       "      <td>24.9</td>\n",
       "      <td>342.799994</td>\n",
       "      <td>4.1</td>\n",
       "      <td>6.9</td>\n",
       "      <td>1</td>\n",
       "      <td>2007-04-01</td>\n",
       "    </tr>\n",
       "    <tr>\n",
       "      <th>3</th>\n",
       "      <td>2007</td>\n",
       "      <td>4</td>\n",
       "      <td>Gampaha</td>\n",
       "      <td>8</td>\n",
       "      <td>93.900000</td>\n",
       "      <td>31.8</td>\n",
       "      <td>24.3</td>\n",
       "      <td>249.899997</td>\n",
       "      <td>3.5</td>\n",
       "      <td>7.7</td>\n",
       "      <td>16</td>\n",
       "      <td>2007-04-01</td>\n",
       "    </tr>\n",
       "    <tr>\n",
       "      <th>4</th>\n",
       "      <td>2007</td>\n",
       "      <td>4</td>\n",
       "      <td>Jaffna</td>\n",
       "      <td>3</td>\n",
       "      <td>77.184516</td>\n",
       "      <td>33.8</td>\n",
       "      <td>25.5</td>\n",
       "      <td>39.000000</td>\n",
       "      <td>5.4</td>\n",
       "      <td>8.0</td>\n",
       "      <td>0</td>\n",
       "      <td>2007-04-01</td>\n",
       "    </tr>\n",
       "  </tbody>\n",
       "</table>\n",
       "</div>"
      ],
      "text/plain": [
       "   Year  Month station_name  elevation   humidity  TMPMAX  TMPMIN  \\\n",
       "0  2007      4   Batticaloa          8  90.100000    31.2    25.1   \n",
       "1  2007      4      Colombo          7  91.433333    31.7    24.8   \n",
       "2  2007      4        Galle         12  92.233333    30.8    24.9   \n",
       "3  2007      4      Gampaha          8  93.900000    31.8    24.3   \n",
       "4  2007      4       Jaffna          3  77.184516    33.8    25.5   \n",
       "\n",
       "   precipitation  wind_speed_8_30am  wind_speed_17_30pm  patients       Date  \n",
       "0     233.300000                1.9                 5.8        12 2007-04-01  \n",
       "1     374.100007                1.9                 5.0        35 2007-04-01  \n",
       "2     342.799994                4.1                 6.9         1 2007-04-01  \n",
       "3     249.899997                3.5                 7.7        16 2007-04-01  \n",
       "4      39.000000                5.4                 8.0         0 2007-04-01  "
      ]
     },
     "execution_count": 16,
     "metadata": {},
     "output_type": "execute_result"
    }
   ],
   "source": [
    "knn_df.head()"
   ]
  },
  {
   "cell_type": "markdown",
   "metadata": {},
   "source": [
    "#### Create timeseries sequence by sorting according to the date and remove the date afterwards"
   ]
  },
  {
   "cell_type": "code",
   "execution_count": 17,
   "metadata": {},
   "outputs": [],
   "source": [
    "knn_df.sort_values('Date',inplace=True)\n",
    "knn_df.drop('Date',axis=1,inplace=True)"
   ]
  },
  {
   "cell_type": "code",
   "execution_count": 18,
   "metadata": {},
   "outputs": [
    {
     "data": {
      "text/html": [
       "<div>\n",
       "<style scoped>\n",
       "    .dataframe tbody tr th:only-of-type {\n",
       "        vertical-align: middle;\n",
       "    }\n",
       "\n",
       "    .dataframe tbody tr th {\n",
       "        vertical-align: top;\n",
       "    }\n",
       "\n",
       "    .dataframe thead th {\n",
       "        text-align: right;\n",
       "    }\n",
       "</style>\n",
       "<table border=\"1\" class=\"dataframe\">\n",
       "  <thead>\n",
       "    <tr style=\"text-align: right;\">\n",
       "      <th></th>\n",
       "      <th>Year</th>\n",
       "      <th>Month</th>\n",
       "      <th>station_name</th>\n",
       "      <th>elevation</th>\n",
       "      <th>humidity</th>\n",
       "      <th>TMPMAX</th>\n",
       "      <th>TMPMIN</th>\n",
       "      <th>precipitation</th>\n",
       "      <th>wind_speed_8_30am</th>\n",
       "      <th>wind_speed_17_30pm</th>\n",
       "      <th>patients</th>\n",
       "    </tr>\n",
       "  </thead>\n",
       "  <tbody>\n",
       "    <tr>\n",
       "      <th>39</th>\n",
       "      <td>2007</td>\n",
       "      <td>1</td>\n",
       "      <td>Gampaha</td>\n",
       "      <td>8</td>\n",
       "      <td>85.838710</td>\n",
       "      <td>32.0</td>\n",
       "      <td>22.1</td>\n",
       "      <td>39.399999</td>\n",
       "      <td>12.5</td>\n",
       "      <td>14.50</td>\n",
       "      <td>64</td>\n",
       "    </tr>\n",
       "    <tr>\n",
       "      <th>36</th>\n",
       "      <td>2007</td>\n",
       "      <td>1</td>\n",
       "      <td>Batticaloa</td>\n",
       "      <td>8</td>\n",
       "      <td>82.064516</td>\n",
       "      <td>28.4</td>\n",
       "      <td>24.0</td>\n",
       "      <td>170.100004</td>\n",
       "      <td>8.6</td>\n",
       "      <td>10.10</td>\n",
       "      <td>0</td>\n",
       "    </tr>\n",
       "    <tr>\n",
       "      <th>37</th>\n",
       "      <td>2007</td>\n",
       "      <td>1</td>\n",
       "      <td>Colombo</td>\n",
       "      <td>7</td>\n",
       "      <td>82.258065</td>\n",
       "      <td>31.8</td>\n",
       "      <td>22.9</td>\n",
       "      <td>91.100001</td>\n",
       "      <td>5.7</td>\n",
       "      <td>6.00</td>\n",
       "      <td>244</td>\n",
       "    </tr>\n",
       "    <tr>\n",
       "      <th>38</th>\n",
       "      <td>2007</td>\n",
       "      <td>1</td>\n",
       "      <td>Galle</td>\n",
       "      <td>12</td>\n",
       "      <td>89.612903</td>\n",
       "      <td>29.6</td>\n",
       "      <td>23.3</td>\n",
       "      <td>78.200000</td>\n",
       "      <td>2.2</td>\n",
       "      <td>6.90</td>\n",
       "      <td>22</td>\n",
       "    </tr>\n",
       "    <tr>\n",
       "      <th>40</th>\n",
       "      <td>2007</td>\n",
       "      <td>1</td>\n",
       "      <td>Jaffna</td>\n",
       "      <td>3</td>\n",
       "      <td>81.886667</td>\n",
       "      <td>29.7</td>\n",
       "      <td>22.2</td>\n",
       "      <td>12.500000</td>\n",
       "      <td>5.3</td>\n",
       "      <td>7.12</td>\n",
       "      <td>0</td>\n",
       "    </tr>\n",
       "  </tbody>\n",
       "</table>\n",
       "</div>"
      ],
      "text/plain": [
       "    Year  Month station_name  elevation   humidity  TMPMAX  TMPMIN  \\\n",
       "39  2007      1      Gampaha          8  85.838710    32.0    22.1   \n",
       "36  2007      1   Batticaloa          8  82.064516    28.4    24.0   \n",
       "37  2007      1      Colombo          7  82.258065    31.8    22.9   \n",
       "38  2007      1        Galle         12  89.612903    29.6    23.3   \n",
       "40  2007      1       Jaffna          3  81.886667    29.7    22.2   \n",
       "\n",
       "    precipitation  wind_speed_8_30am  wind_speed_17_30pm  patients  \n",
       "39      39.399999               12.5               14.50        64  \n",
       "36     170.100004                8.6               10.10         0  \n",
       "37      91.100001                5.7                6.00       244  \n",
       "38      78.200000                2.2                6.90        22  \n",
       "40      12.500000                5.3                7.12         0  "
      ]
     },
     "execution_count": 18,
     "metadata": {},
     "output_type": "execute_result"
    }
   ],
   "source": [
    "knn_df.head()"
   ]
  },
  {
   "cell_type": "code",
   "execution_count": 19,
   "metadata": {},
   "outputs": [],
   "source": [
    "knn_df.dropna()\n",
    "knn_df.drop(columns=['Year','Month','elevation'],inplace=True)"
   ]
  },
  {
   "cell_type": "markdown",
   "metadata": {},
   "source": [
    "#### Use one hot encoding for the station name"
   ]
  },
  {
   "cell_type": "code",
   "execution_count": 20,
   "metadata": {},
   "outputs": [],
   "source": [
    "df_encoded = pd.get_dummies(knn_df, columns=['station_name'])\n",
    "\n",
    "# Assuming df_encoded is your dataframe after get_dummies\n",
    "bool_cols = [col for col in df_encoded.columns if df_encoded[col].dtype == np.dtype('bool')]\n",
    "df_encoded[bool_cols] = df_encoded[bool_cols].astype(float)\n"
   ]
  },
  {
   "cell_type": "code",
   "execution_count": 21,
   "metadata": {},
   "outputs": [
    {
     "data": {
      "text/html": [
       "<div>\n",
       "<style scoped>\n",
       "    .dataframe tbody tr th:only-of-type {\n",
       "        vertical-align: middle;\n",
       "    }\n",
       "\n",
       "    .dataframe tbody tr th {\n",
       "        vertical-align: top;\n",
       "    }\n",
       "\n",
       "    .dataframe thead th {\n",
       "        text-align: right;\n",
       "    }\n",
       "</style>\n",
       "<table border=\"1\" class=\"dataframe\">\n",
       "  <thead>\n",
       "    <tr style=\"text-align: right;\">\n",
       "      <th></th>\n",
       "      <th>humidity</th>\n",
       "      <th>TMPMAX</th>\n",
       "      <th>TMPMIN</th>\n",
       "      <th>precipitation</th>\n",
       "      <th>wind_speed_8_30am</th>\n",
       "      <th>wind_speed_17_30pm</th>\n",
       "      <th>patients</th>\n",
       "      <th>station_name_Batticaloa</th>\n",
       "      <th>station_name_Colombo</th>\n",
       "      <th>station_name_Galle</th>\n",
       "      <th>station_name_Gampaha</th>\n",
       "      <th>station_name_Jaffna</th>\n",
       "      <th>station_name_Kandy</th>\n",
       "      <th>station_name_Kurunegala</th>\n",
       "      <th>station_name_Puttalam</th>\n",
       "      <th>station_name_Ratnapura</th>\n",
       "    </tr>\n",
       "  </thead>\n",
       "  <tbody>\n",
       "    <tr>\n",
       "      <th>39</th>\n",
       "      <td>85.838710</td>\n",
       "      <td>32.0</td>\n",
       "      <td>22.1</td>\n",
       "      <td>39.399999</td>\n",
       "      <td>12.5</td>\n",
       "      <td>14.50</td>\n",
       "      <td>64</td>\n",
       "      <td>0.0</td>\n",
       "      <td>0.0</td>\n",
       "      <td>0.0</td>\n",
       "      <td>1.0</td>\n",
       "      <td>0.0</td>\n",
       "      <td>0.0</td>\n",
       "      <td>0.0</td>\n",
       "      <td>0.0</td>\n",
       "      <td>0.0</td>\n",
       "    </tr>\n",
       "    <tr>\n",
       "      <th>36</th>\n",
       "      <td>82.064516</td>\n",
       "      <td>28.4</td>\n",
       "      <td>24.0</td>\n",
       "      <td>170.100004</td>\n",
       "      <td>8.6</td>\n",
       "      <td>10.10</td>\n",
       "      <td>0</td>\n",
       "      <td>1.0</td>\n",
       "      <td>0.0</td>\n",
       "      <td>0.0</td>\n",
       "      <td>0.0</td>\n",
       "      <td>0.0</td>\n",
       "      <td>0.0</td>\n",
       "      <td>0.0</td>\n",
       "      <td>0.0</td>\n",
       "      <td>0.0</td>\n",
       "    </tr>\n",
       "    <tr>\n",
       "      <th>37</th>\n",
       "      <td>82.258065</td>\n",
       "      <td>31.8</td>\n",
       "      <td>22.9</td>\n",
       "      <td>91.100001</td>\n",
       "      <td>5.7</td>\n",
       "      <td>6.00</td>\n",
       "      <td>244</td>\n",
       "      <td>0.0</td>\n",
       "      <td>1.0</td>\n",
       "      <td>0.0</td>\n",
       "      <td>0.0</td>\n",
       "      <td>0.0</td>\n",
       "      <td>0.0</td>\n",
       "      <td>0.0</td>\n",
       "      <td>0.0</td>\n",
       "      <td>0.0</td>\n",
       "    </tr>\n",
       "    <tr>\n",
       "      <th>38</th>\n",
       "      <td>89.612903</td>\n",
       "      <td>29.6</td>\n",
       "      <td>23.3</td>\n",
       "      <td>78.200000</td>\n",
       "      <td>2.2</td>\n",
       "      <td>6.90</td>\n",
       "      <td>22</td>\n",
       "      <td>0.0</td>\n",
       "      <td>0.0</td>\n",
       "      <td>1.0</td>\n",
       "      <td>0.0</td>\n",
       "      <td>0.0</td>\n",
       "      <td>0.0</td>\n",
       "      <td>0.0</td>\n",
       "      <td>0.0</td>\n",
       "      <td>0.0</td>\n",
       "    </tr>\n",
       "    <tr>\n",
       "      <th>40</th>\n",
       "      <td>81.886667</td>\n",
       "      <td>29.7</td>\n",
       "      <td>22.2</td>\n",
       "      <td>12.500000</td>\n",
       "      <td>5.3</td>\n",
       "      <td>7.12</td>\n",
       "      <td>0</td>\n",
       "      <td>0.0</td>\n",
       "      <td>0.0</td>\n",
       "      <td>0.0</td>\n",
       "      <td>0.0</td>\n",
       "      <td>1.0</td>\n",
       "      <td>0.0</td>\n",
       "      <td>0.0</td>\n",
       "      <td>0.0</td>\n",
       "      <td>0.0</td>\n",
       "    </tr>\n",
       "  </tbody>\n",
       "</table>\n",
       "</div>"
      ],
      "text/plain": [
       "     humidity  TMPMAX  TMPMIN  precipitation  wind_speed_8_30am  \\\n",
       "39  85.838710    32.0    22.1      39.399999               12.5   \n",
       "36  82.064516    28.4    24.0     170.100004                8.6   \n",
       "37  82.258065    31.8    22.9      91.100001                5.7   \n",
       "38  89.612903    29.6    23.3      78.200000                2.2   \n",
       "40  81.886667    29.7    22.2      12.500000                5.3   \n",
       "\n",
       "    wind_speed_17_30pm  patients  station_name_Batticaloa  \\\n",
       "39               14.50        64                      0.0   \n",
       "36               10.10         0                      1.0   \n",
       "37                6.00       244                      0.0   \n",
       "38                6.90        22                      0.0   \n",
       "40                7.12         0                      0.0   \n",
       "\n",
       "    station_name_Colombo  station_name_Galle  station_name_Gampaha  \\\n",
       "39                   0.0                 0.0                   1.0   \n",
       "36                   0.0                 0.0                   0.0   \n",
       "37                   1.0                 0.0                   0.0   \n",
       "38                   0.0                 1.0                   0.0   \n",
       "40                   0.0                 0.0                   0.0   \n",
       "\n",
       "    station_name_Jaffna  station_name_Kandy  station_name_Kurunegala  \\\n",
       "39                  0.0                 0.0                      0.0   \n",
       "36                  0.0                 0.0                      0.0   \n",
       "37                  0.0                 0.0                      0.0   \n",
       "38                  0.0                 0.0                      0.0   \n",
       "40                  1.0                 0.0                      0.0   \n",
       "\n",
       "    station_name_Puttalam  station_name_Ratnapura  \n",
       "39                    0.0                     0.0  \n",
       "36                    0.0                     0.0  \n",
       "37                    0.0                     0.0  \n",
       "38                    0.0                     0.0  \n",
       "40                    0.0                     0.0  "
      ]
     },
     "execution_count": 21,
     "metadata": {},
     "output_type": "execute_result"
    }
   ],
   "source": [
    "df_encoded.head()"
   ]
  },
  {
   "cell_type": "markdown",
   "metadata": {},
   "source": [
    "#### LSTM Model "
   ]
  },
  {
   "cell_type": "code",
   "execution_count": 22,
   "metadata": {},
   "outputs": [],
   "source": [
    "from torch.autograd import Variable\n",
    "\n",
    "# Define LSTM model\n",
    "class LSTM(nn.Module):\n",
    "    def __init__(self, input_size, hidden_size, output_size=1, num_layers=2):\n",
    "        super(LSTM, self).__init__()\n",
    "        self.input_size = input_size\n",
    "        self.hidden_size = hidden_size\n",
    "        self.output_size = output_size\n",
    "        self.num_layers = num_layers\n",
    "\n",
    "        self.lstm = nn.LSTM(input_size, hidden_size, num_layers, batch_first=True)\n",
    "        self.fc = nn.Linear(hidden_size, output_size)\n",
    "\n",
    "    def forward(self, x):\n",
    "        h_0 = Variable(torch.zeros(self.num_layers, x.size(0), self.hidden_size)) #hidden state\n",
    "        c_0 = Variable(torch.zeros(self.num_layers, x.size(0), self.hidden_size)) #internal state\n",
    "        # Propagate input through LSTM\n",
    "        output, (hn, cn) = self.lstm(x, (h_0, c_0)) # lstm with input, hidden, and internal state\n",
    "        hn = hn.view(-1, self.hidden_size) # reshaping the data for Dense layer next\n",
    "        out = self.fc(hn)\n",
    "        return out\n"
   ]
  },
  {
   "cell_type": "code",
   "execution_count": 23,
   "metadata": {},
   "outputs": [],
   "source": [
    "from sklearn.model_selection import train_test_split\n",
    "from torch.utils.data import TensorDataset, DataLoader"
   ]
  },
  {
   "cell_type": "code",
   "execution_count": 24,
   "metadata": {},
   "outputs": [
    {
     "data": {
      "text/plain": [
       "humidity                   float64\n",
       "TMPMAX                     float64\n",
       "TMPMIN                     float64\n",
       "precipitation              float64\n",
       "wind_speed_8_30am          float64\n",
       "wind_speed_17_30pm         float64\n",
       "patients                     int64\n",
       "station_name_Batticaloa    float64\n",
       "station_name_Colombo       float64\n",
       "station_name_Galle         float64\n",
       "station_name_Gampaha       float64\n",
       "station_name_Jaffna        float64\n",
       "station_name_Kandy         float64\n",
       "station_name_Kurunegala    float64\n",
       "station_name_Puttalam      float64\n",
       "station_name_Ratnapura     float64\n",
       "dtype: object"
      ]
     },
     "execution_count": 24,
     "metadata": {},
     "output_type": "execute_result"
    }
   ],
   "source": [
    "df_encoded.dtypes"
   ]
  },
  {
   "cell_type": "code",
   "execution_count": 25,
   "metadata": {},
   "outputs": [],
   "source": [
    "# split df to into features and labels and convert into numpy arrays\n",
    "features = df_encoded.drop('patients', axis=1)\n",
    "labels = df_encoded['patients'].astype(float)\n",
    "\n",
    "# Convert to numpy arrays\n",
    "features = features.to_numpy()\n",
    "labels = labels.to_numpy()"
   ]
  },
  {
   "cell_type": "code",
   "execution_count": 26,
   "metadata": {},
   "outputs": [
    {
     "ename": "TypeError",
     "evalue": "'int' object is not callable",
     "output_type": "error",
     "traceback": [
      "\u001b[1;31m---------------------------------------------------------------------------\u001b[0m",
      "\u001b[1;31mTypeError\u001b[0m                                 Traceback (most recent call last)",
      "Cell \u001b[1;32mIn[26], line 5\u001b[0m\n\u001b[0;32m      2\u001b[0m features_train, features_test, labels_train, labels_test \u001b[38;5;241m=\u001b[39m train_test_split(features, labels, test_size\u001b[38;5;241m=\u001b[39m\u001b[38;5;241m0.2\u001b[39m, random_state\u001b[38;5;241m=\u001b[39m\u001b[38;5;241m42\u001b[39m)\n\u001b[0;32m      4\u001b[0m \u001b[38;5;66;03m# Create DataLoader objects\u001b[39;00m\n\u001b[1;32m----> 5\u001b[0m train_data \u001b[38;5;241m=\u001b[39m \u001b[43mTensorDataset\u001b[49m\u001b[43m(\u001b[49m\u001b[43mfeatures_train\u001b[49m\u001b[43m,\u001b[49m\u001b[43m \u001b[49m\u001b[43mlabels_train\u001b[49m\u001b[43m)\u001b[49m\n\u001b[0;32m      6\u001b[0m \u001b[38;5;66;03m# test_data = TensorDataset(features_test, labels_test)\u001b[39;00m\n",
      "File \u001b[1;32m~\\AppData\\Roaming\\Python\\Python310\\site-packages\\torch\\utils\\data\\dataset.py:192\u001b[0m, in \u001b[0;36mTensorDataset.__init__\u001b[1;34m(self, *tensors)\u001b[0m\n\u001b[0;32m    191\u001b[0m \u001b[38;5;28;01mdef\u001b[39;00m \u001b[38;5;21m__init__\u001b[39m(\u001b[38;5;28mself\u001b[39m, \u001b[38;5;241m*\u001b[39mtensors: Tensor) \u001b[38;5;241m-\u001b[39m\u001b[38;5;241m>\u001b[39m \u001b[38;5;28;01mNone\u001b[39;00m:\n\u001b[1;32m--> 192\u001b[0m     \u001b[38;5;28;01massert\u001b[39;00m \u001b[38;5;28;43mall\u001b[39;49m\u001b[43m(\u001b[49m\u001b[43mtensors\u001b[49m\u001b[43m[\u001b[49m\u001b[38;5;241;43m0\u001b[39;49m\u001b[43m]\u001b[49m\u001b[38;5;241;43m.\u001b[39;49m\u001b[43msize\u001b[49m\u001b[43m(\u001b[49m\u001b[38;5;241;43m0\u001b[39;49m\u001b[43m)\u001b[49m\u001b[43m \u001b[49m\u001b[38;5;241;43m==\u001b[39;49m\u001b[43m \u001b[49m\u001b[43mtensor\u001b[49m\u001b[38;5;241;43m.\u001b[39;49m\u001b[43msize\u001b[49m\u001b[43m(\u001b[49m\u001b[38;5;241;43m0\u001b[39;49m\u001b[43m)\u001b[49m\u001b[43m \u001b[49m\u001b[38;5;28;43;01mfor\u001b[39;49;00m\u001b[43m \u001b[49m\u001b[43mtensor\u001b[49m\u001b[43m \u001b[49m\u001b[38;5;129;43;01min\u001b[39;49;00m\u001b[43m \u001b[49m\u001b[43mtensors\u001b[49m\u001b[43m)\u001b[49m, \u001b[38;5;124m\"\u001b[39m\u001b[38;5;124mSize mismatch between tensors\u001b[39m\u001b[38;5;124m\"\u001b[39m\n\u001b[0;32m    193\u001b[0m     \u001b[38;5;28mself\u001b[39m\u001b[38;5;241m.\u001b[39mtensors \u001b[38;5;241m=\u001b[39m tensors\n",
      "File \u001b[1;32m~\\AppData\\Roaming\\Python\\Python310\\site-packages\\torch\\utils\\data\\dataset.py:192\u001b[0m, in \u001b[0;36m<genexpr>\u001b[1;34m(.0)\u001b[0m\n\u001b[0;32m    191\u001b[0m \u001b[38;5;28;01mdef\u001b[39;00m \u001b[38;5;21m__init__\u001b[39m(\u001b[38;5;28mself\u001b[39m, \u001b[38;5;241m*\u001b[39mtensors: Tensor) \u001b[38;5;241m-\u001b[39m\u001b[38;5;241m>\u001b[39m \u001b[38;5;28;01mNone\u001b[39;00m:\n\u001b[1;32m--> 192\u001b[0m     \u001b[38;5;28;01massert\u001b[39;00m \u001b[38;5;28mall\u001b[39m(\u001b[43mtensors\u001b[49m\u001b[43m[\u001b[49m\u001b[38;5;241;43m0\u001b[39;49m\u001b[43m]\u001b[49m\u001b[38;5;241;43m.\u001b[39;49m\u001b[43msize\u001b[49m\u001b[43m(\u001b[49m\u001b[38;5;241;43m0\u001b[39;49m\u001b[43m)\u001b[49m \u001b[38;5;241m==\u001b[39m tensor\u001b[38;5;241m.\u001b[39msize(\u001b[38;5;241m0\u001b[39m) \u001b[38;5;28;01mfor\u001b[39;00m tensor \u001b[38;5;129;01min\u001b[39;00m tensors), \u001b[38;5;124m\"\u001b[39m\u001b[38;5;124mSize mismatch between tensors\u001b[39m\u001b[38;5;124m\"\u001b[39m\n\u001b[0;32m    193\u001b[0m     \u001b[38;5;28mself\u001b[39m\u001b[38;5;241m.\u001b[39mtensors \u001b[38;5;241m=\u001b[39m tensors\n",
      "\u001b[1;31mTypeError\u001b[0m: 'int' object is not callable"
     ]
    }
   ],
   "source": [
    "# Split the data into training and testing sets\n",
    "features_train, features_test, labels_train, labels_test = train_test_split(features, labels, test_size=0.2, random_state=42)\n",
    "\n",
    "# Create DataLoader objects\n",
    "train_data = TensorDataset(features_train, labels_train)\n",
    "# test_data = TensorDataset(features_test, labels_test)"
   ]
  }
 ],
 "metadata": {
  "kernelspec": {
   "display_name": "Python 3",
   "language": "python",
   "name": "python3"
  },
  "language_info": {
   "codemirror_mode": {
    "name": "ipython",
    "version": 3
   },
   "file_extension": ".py",
   "mimetype": "text/x-python",
   "name": "python",
   "nbconvert_exporter": "python",
   "pygments_lexer": "ipython3",
   "version": "3.10.2"
  }
 },
 "nbformat": 4,
 "nbformat_minor": 2
}
