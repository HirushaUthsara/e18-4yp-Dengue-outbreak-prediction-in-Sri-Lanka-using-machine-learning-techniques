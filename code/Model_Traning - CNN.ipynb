{
 "cells": [
  {
   "cell_type": "markdown",
   "metadata": {},
   "source": [
    "# Data Preprocessing Tools"
   ]
  },
  {
   "cell_type": "markdown",
   "metadata": {},
   "source": [
    "## Importing the libraries"
   ]
  },
  {
   "cell_type": "code",
   "execution_count": 25,
   "metadata": {},
   "outputs": [
    {
     "name": "stdout",
     "output_type": "stream",
     "text": [
      "Requirement already satisfied: numpy in c:\\users\\user\\appdata\\local\\programs\\python\\python312\\lib\\site-packages (1.26.4)Note: you may need to restart the kernel to use updated packages.\n",
      "\n",
      "Requirement already satisfied: pandas in c:\\users\\user\\appdata\\local\\programs\\python\\python312\\lib\\site-packages (2.2.1)\n",
      "Requirement already satisfied: scikit-learn in c:\\users\\user\\appdata\\local\\programs\\python\\python312\\lib\\site-packages (1.4.1.post1)\n",
      "Requirement already satisfied: torch in c:\\users\\user\\appdata\\local\\programs\\python\\python312\\lib\\site-packages (2.2.2)\n",
      "Requirement already satisfied: python-dateutil>=2.8.2 in c:\\users\\user\\appdata\\roaming\\python\\python312\\site-packages (from pandas) (2.9.0.post0)\n",
      "Requirement already satisfied: pytz>=2020.1 in c:\\users\\user\\appdata\\local\\programs\\python\\python312\\lib\\site-packages (from pandas) (2024.1)\n",
      "Requirement already satisfied: tzdata>=2022.7 in c:\\users\\user\\appdata\\local\\programs\\python\\python312\\lib\\site-packages (from pandas) (2024.1)\n",
      "Requirement already satisfied: scipy>=1.6.0 in c:\\users\\user\\appdata\\local\\programs\\python\\python312\\lib\\site-packages (from scikit-learn) (1.12.0)\n",
      "Requirement already satisfied: joblib>=1.2.0 in c:\\users\\user\\appdata\\local\\programs\\python\\python312\\lib\\site-packages (from scikit-learn) (1.3.2)\n",
      "Requirement already satisfied: threadpoolctl>=2.0.0 in c:\\users\\user\\appdata\\local\\programs\\python\\python312\\lib\\site-packages (from scikit-learn) (3.3.0)\n",
      "Requirement already satisfied: filelock in c:\\users\\user\\appdata\\local\\programs\\python\\python312\\lib\\site-packages (from torch) (3.13.1)\n",
      "Requirement already satisfied: typing-extensions>=4.8.0 in c:\\users\\user\\appdata\\local\\programs\\python\\python312\\lib\\site-packages (from torch) (4.10.0)\n",
      "Requirement already satisfied: sympy in c:\\users\\user\\appdata\\local\\programs\\python\\python312\\lib\\site-packages (from torch) (1.12)\n",
      "Requirement already satisfied: networkx in c:\\users\\user\\appdata\\local\\programs\\python\\python312\\lib\\site-packages (from torch) (3.3)\n",
      "Requirement already satisfied: jinja2 in c:\\users\\user\\appdata\\local\\programs\\python\\python312\\lib\\site-packages (from torch) (3.1.3)\n",
      "Requirement already satisfied: fsspec in c:\\users\\user\\appdata\\local\\programs\\python\\python312\\lib\\site-packages (from torch) (2024.3.1)\n",
      "Requirement already satisfied: six>=1.5 in c:\\users\\user\\appdata\\roaming\\python\\python312\\site-packages (from python-dateutil>=2.8.2->pandas) (1.16.0)\n",
      "Requirement already satisfied: MarkupSafe>=2.0 in c:\\users\\user\\appdata\\local\\programs\\python\\python312\\lib\\site-packages (from jinja2->torch) (2.1.5)\n",
      "Requirement already satisfied: mpmath>=0.19 in c:\\users\\user\\appdata\\local\\programs\\python\\python312\\lib\\site-packages (from sympy->torch) (1.3.0)\n"
     ]
    }
   ],
   "source": [
    "%pip install numpy pandas scikit-learn torch"
   ]
  },
  {
   "cell_type": "code",
   "execution_count": 26,
   "metadata": {},
   "outputs": [],
   "source": [
    "import pandas as pd\n",
    "import numpy as np"
   ]
  },
  {
   "cell_type": "markdown",
   "metadata": {},
   "source": [
    "## Importing the dataset"
   ]
  },
  {
   "cell_type": "code",
   "execution_count": 27,
   "metadata": {},
   "outputs": [],
   "source": [
    "df = pd.read_csv('Data/Preprocessed Data/final_data.csv')"
   ]
  },
  {
   "cell_type": "code",
   "execution_count": 28,
   "metadata": {},
   "outputs": [
    {
     "data": {
      "text/html": [
       "<div>\n",
       "<style scoped>\n",
       "    .dataframe tbody tr th:only-of-type {\n",
       "        vertical-align: middle;\n",
       "    }\n",
       "\n",
       "    .dataframe tbody tr th {\n",
       "        vertical-align: top;\n",
       "    }\n",
       "\n",
       "    .dataframe thead th {\n",
       "        text-align: right;\n",
       "    }\n",
       "</style>\n",
       "<table border=\"1\" class=\"dataframe\">\n",
       "  <thead>\n",
       "    <tr style=\"text-align: right;\">\n",
       "      <th></th>\n",
       "      <th>Year</th>\n",
       "      <th>Month</th>\n",
       "      <th>station_name</th>\n",
       "      <th>elevation</th>\n",
       "      <th>humidity</th>\n",
       "      <th>TMPMAX</th>\n",
       "      <th>TMPMIN</th>\n",
       "      <th>precipitation</th>\n",
       "      <th>wind_speed_8_30am</th>\n",
       "      <th>wind_speed_17_30pm</th>\n",
       "      <th>patients</th>\n",
       "      <th>Date</th>\n",
       "    </tr>\n",
       "  </thead>\n",
       "  <tbody>\n",
       "    <tr>\n",
       "      <th>0</th>\n",
       "      <td>2007</td>\n",
       "      <td>4</td>\n",
       "      <td>Batticaloa</td>\n",
       "      <td>8</td>\n",
       "      <td>90.100000</td>\n",
       "      <td>31.2</td>\n",
       "      <td>25.1</td>\n",
       "      <td>233.300000</td>\n",
       "      <td>1.9</td>\n",
       "      <td>5.8</td>\n",
       "      <td>12.0</td>\n",
       "      <td>2007-04-01</td>\n",
       "    </tr>\n",
       "    <tr>\n",
       "      <th>1</th>\n",
       "      <td>2007</td>\n",
       "      <td>4</td>\n",
       "      <td>Colombo</td>\n",
       "      <td>7</td>\n",
       "      <td>91.433333</td>\n",
       "      <td>31.7</td>\n",
       "      <td>24.8</td>\n",
       "      <td>374.100007</td>\n",
       "      <td>1.9</td>\n",
       "      <td>5.0</td>\n",
       "      <td>35.0</td>\n",
       "      <td>2007-04-01</td>\n",
       "    </tr>\n",
       "    <tr>\n",
       "      <th>2</th>\n",
       "      <td>2007</td>\n",
       "      <td>4</td>\n",
       "      <td>Galle</td>\n",
       "      <td>12</td>\n",
       "      <td>92.233333</td>\n",
       "      <td>30.8</td>\n",
       "      <td>24.9</td>\n",
       "      <td>342.799994</td>\n",
       "      <td>4.1</td>\n",
       "      <td>6.9</td>\n",
       "      <td>1.0</td>\n",
       "      <td>2007-04-01</td>\n",
       "    </tr>\n",
       "    <tr>\n",
       "      <th>3</th>\n",
       "      <td>2007</td>\n",
       "      <td>4</td>\n",
       "      <td>Gampaha</td>\n",
       "      <td>8</td>\n",
       "      <td>93.900000</td>\n",
       "      <td>31.8</td>\n",
       "      <td>24.3</td>\n",
       "      <td>249.899997</td>\n",
       "      <td>3.5</td>\n",
       "      <td>7.7</td>\n",
       "      <td>16.0</td>\n",
       "      <td>2007-04-01</td>\n",
       "    </tr>\n",
       "    <tr>\n",
       "      <th>4</th>\n",
       "      <td>2007</td>\n",
       "      <td>4</td>\n",
       "      <td>Jaffna</td>\n",
       "      <td>3</td>\n",
       "      <td>NaN</td>\n",
       "      <td>33.8</td>\n",
       "      <td>25.5</td>\n",
       "      <td>39.000000</td>\n",
       "      <td>5.4</td>\n",
       "      <td>8.0</td>\n",
       "      <td>0.0</td>\n",
       "      <td>2007-04-01</td>\n",
       "    </tr>\n",
       "  </tbody>\n",
       "</table>\n",
       "</div>"
      ],
      "text/plain": [
       "   Year  Month station_name  elevation   humidity  TMPMAX  TMPMIN  \\\n",
       "0  2007      4   Batticaloa          8  90.100000    31.2    25.1   \n",
       "1  2007      4      Colombo          7  91.433333    31.7    24.8   \n",
       "2  2007      4        Galle         12  92.233333    30.8    24.9   \n",
       "3  2007      4      Gampaha          8  93.900000    31.8    24.3   \n",
       "4  2007      4       Jaffna          3        NaN    33.8    25.5   \n",
       "\n",
       "   precipitation  wind_speed_8_30am  wind_speed_17_30pm  patients        Date  \n",
       "0     233.300000                1.9                 5.8      12.0  2007-04-01  \n",
       "1     374.100007                1.9                 5.0      35.0  2007-04-01  \n",
       "2     342.799994                4.1                 6.9       1.0  2007-04-01  \n",
       "3     249.899997                3.5                 7.7      16.0  2007-04-01  \n",
       "4      39.000000                5.4                 8.0       0.0  2007-04-01  "
      ]
     },
     "execution_count": 28,
     "metadata": {},
     "output_type": "execute_result"
    }
   ],
   "source": [
    "df.head(5)"
   ]
  },
  {
   "cell_type": "markdown",
   "metadata": {},
   "source": [
    "## Taking care of missing data"
   ]
  },
  {
   "cell_type": "code",
   "execution_count": 29,
   "metadata": {},
   "outputs": [],
   "source": [
    "# convert date into date64 datatype\n",
    "df['Date'] = pd.to_datetime(df['Date']).dt.normalize()\n",
    "df['patients'] = df.patients.astype('int64')"
   ]
  },
  {
   "cell_type": "code",
   "execution_count": 30,
   "metadata": {},
   "outputs": [
    {
     "data": {
      "text/plain": [
       "Year                           int64\n",
       "Month                          int64\n",
       "station_name                  object\n",
       "elevation                      int64\n",
       "humidity                     float64\n",
       "TMPMAX                       float64\n",
       "TMPMIN                       float64\n",
       "precipitation                float64\n",
       "wind_speed_8_30am            float64\n",
       "wind_speed_17_30pm           float64\n",
       "patients                       int64\n",
       "Date                  datetime64[ns]\n",
       "dtype: object"
      ]
     },
     "execution_count": 30,
     "metadata": {},
     "output_type": "execute_result"
    }
   ],
   "source": [
    "df.dtypes"
   ]
  },
  {
   "cell_type": "code",
   "execution_count": 31,
   "metadata": {},
   "outputs": [
    {
     "data": {
      "text/plain": [
       "Year                    0\n",
       "Month                   0\n",
       "station_name            0\n",
       "elevation               0\n",
       "humidity               60\n",
       "TMPMAX                 24\n",
       "TMPMIN                 37\n",
       "precipitation           7\n",
       "wind_speed_8_30am     204\n",
       "wind_speed_17_30pm    208\n",
       "patients                0\n",
       "Date                    0\n",
       "dtype: int64"
      ]
     },
     "execution_count": 31,
     "metadata": {},
     "output_type": "execute_result"
    }
   ],
   "source": [
    "# check null value count for the each feature\n",
    "df.isna().sum() "
   ]
  },
  {
   "cell_type": "code",
   "execution_count": 32,
   "metadata": {},
   "outputs": [
    {
     "data": {
      "text/plain": [
       "Index(['Year', 'Month', 'station_name', 'elevation', 'humidity', 'TMPMAX',\n",
       "       'TMPMIN', 'precipitation', 'wind_speed_8_30am', 'wind_speed_17_30pm',\n",
       "       'patients', 'Date'],\n",
       "      dtype='object')"
      ]
     },
     "execution_count": 32,
     "metadata": {},
     "output_type": "execute_result"
    }
   ],
   "source": [
    "df.columns"
   ]
  },
  {
   "cell_type": "markdown",
   "metadata": {},
   "source": [
    "### KNN imputator"
   ]
  },
  {
   "cell_type": "markdown",
   "metadata": {},
   "source": [
    "* The KNNImputer class is imported from the sklearn.impute module. \n",
    "* This class is used for imputing missing values using the k-nearest neighbors algorithm.\n",
    "* An instance of the KNNImputer class is initialized with the parameter n_neighbors set to 5. This specifies that the algorithm should consider the 5 nearest neighbors when imputing missing values."
   ]
  },
  {
   "cell_type": "code",
   "execution_count": 33,
   "metadata": {},
   "outputs": [],
   "source": [
    "from sklearn.impute import KNNImputer\n",
    "import pandas as pd\n",
    "\n",
    "# Initialize the KNNImputer\n",
    "knn_imp = KNNImputer(n_neighbors=5)\n",
    "\n",
    "knn_df = df.copy()\n",
    "\n",
    "# Select the columns you want to impute\n",
    "columns_to_impute = ['humidity', 'TMPMAX', 'TMPMIN', 'precipitation', 'wind_speed_8_30am', 'wind_speed_17_30pm']"
   ]
  },
  {
   "cell_type": "code",
   "execution_count": 34,
   "metadata": {},
   "outputs": [],
   "source": [
    "\n",
    "# Perform the imputation on the selected columns\n",
    "imputed_data = knn_imp.fit_transform(knn_df[columns_to_impute])\n",
    "\n",
    "# Convert the imputed data back into a DataFrame\n",
    "imputed_df = pd.DataFrame(imputed_data, columns=columns_to_impute)\n",
    "\n",
    "# Replace the original columns in the DataFrame with the imputed ones\n",
    "knn_df[columns_to_impute] = imputed_df\n"
   ]
  },
  {
   "cell_type": "code",
   "execution_count": 35,
   "metadata": {},
   "outputs": [
    {
     "data": {
      "text/plain": [
       "Year                  0\n",
       "Month                 0\n",
       "station_name          0\n",
       "elevation             0\n",
       "humidity              0\n",
       "TMPMAX                0\n",
       "TMPMIN                0\n",
       "precipitation         0\n",
       "wind_speed_8_30am     0\n",
       "wind_speed_17_30pm    0\n",
       "patients              0\n",
       "Date                  0\n",
       "dtype: int64"
      ]
     },
     "execution_count": 35,
     "metadata": {},
     "output_type": "execute_result"
    }
   ],
   "source": [
    "knn_df.isna().sum()"
   ]
  },
  {
   "cell_type": "code",
   "execution_count": 36,
   "metadata": {},
   "outputs": [
    {
     "data": {
      "text/plain": [
       "9"
      ]
     },
     "execution_count": 36,
     "metadata": {},
     "output_type": "execute_result"
    }
   ],
   "source": [
    "knn_df['station_name'].nunique()"
   ]
  },
  {
   "cell_type": "code",
   "execution_count": 37,
   "metadata": {},
   "outputs": [
    {
     "data": {
      "text/plain": [
       "array(['Batticaloa', 'Colombo', 'Galle', 'Gampaha', 'Jaffna', 'Kandy',\n",
       "       'Kurunegala', 'Puttalam', 'Ratnapura'], dtype=object)"
      ]
     },
     "execution_count": 37,
     "metadata": {},
     "output_type": "execute_result"
    }
   ],
   "source": [
    "knn_df['station_name'].unique()"
   ]
  },
  {
   "cell_type": "code",
   "execution_count": 38,
   "metadata": {},
   "outputs": [
    {
     "data": {
      "text/html": [
       "<div>\n",
       "<style scoped>\n",
       "    .dataframe tbody tr th:only-of-type {\n",
       "        vertical-align: middle;\n",
       "    }\n",
       "\n",
       "    .dataframe tbody tr th {\n",
       "        vertical-align: top;\n",
       "    }\n",
       "\n",
       "    .dataframe thead th {\n",
       "        text-align: right;\n",
       "    }\n",
       "</style>\n",
       "<table border=\"1\" class=\"dataframe\">\n",
       "  <thead>\n",
       "    <tr style=\"text-align: right;\">\n",
       "      <th></th>\n",
       "      <th>Year</th>\n",
       "      <th>Month</th>\n",
       "      <th>station_name</th>\n",
       "      <th>elevation</th>\n",
       "      <th>humidity</th>\n",
       "      <th>TMPMAX</th>\n",
       "      <th>TMPMIN</th>\n",
       "      <th>precipitation</th>\n",
       "      <th>wind_speed_8_30am</th>\n",
       "      <th>wind_speed_17_30pm</th>\n",
       "      <th>patients</th>\n",
       "      <th>Date</th>\n",
       "    </tr>\n",
       "  </thead>\n",
       "  <tbody>\n",
       "    <tr>\n",
       "      <th>0</th>\n",
       "      <td>2007</td>\n",
       "      <td>4</td>\n",
       "      <td>Batticaloa</td>\n",
       "      <td>8</td>\n",
       "      <td>90.100000</td>\n",
       "      <td>31.2</td>\n",
       "      <td>25.1</td>\n",
       "      <td>233.300000</td>\n",
       "      <td>1.9</td>\n",
       "      <td>5.8</td>\n",
       "      <td>12</td>\n",
       "      <td>2007-04-01</td>\n",
       "    </tr>\n",
       "    <tr>\n",
       "      <th>1</th>\n",
       "      <td>2007</td>\n",
       "      <td>4</td>\n",
       "      <td>Colombo</td>\n",
       "      <td>7</td>\n",
       "      <td>91.433333</td>\n",
       "      <td>31.7</td>\n",
       "      <td>24.8</td>\n",
       "      <td>374.100007</td>\n",
       "      <td>1.9</td>\n",
       "      <td>5.0</td>\n",
       "      <td>35</td>\n",
       "      <td>2007-04-01</td>\n",
       "    </tr>\n",
       "    <tr>\n",
       "      <th>2</th>\n",
       "      <td>2007</td>\n",
       "      <td>4</td>\n",
       "      <td>Galle</td>\n",
       "      <td>12</td>\n",
       "      <td>92.233333</td>\n",
       "      <td>30.8</td>\n",
       "      <td>24.9</td>\n",
       "      <td>342.799994</td>\n",
       "      <td>4.1</td>\n",
       "      <td>6.9</td>\n",
       "      <td>1</td>\n",
       "      <td>2007-04-01</td>\n",
       "    </tr>\n",
       "    <tr>\n",
       "      <th>3</th>\n",
       "      <td>2007</td>\n",
       "      <td>4</td>\n",
       "      <td>Gampaha</td>\n",
       "      <td>8</td>\n",
       "      <td>93.900000</td>\n",
       "      <td>31.8</td>\n",
       "      <td>24.3</td>\n",
       "      <td>249.899997</td>\n",
       "      <td>3.5</td>\n",
       "      <td>7.7</td>\n",
       "      <td>16</td>\n",
       "      <td>2007-04-01</td>\n",
       "    </tr>\n",
       "    <tr>\n",
       "      <th>4</th>\n",
       "      <td>2007</td>\n",
       "      <td>4</td>\n",
       "      <td>Jaffna</td>\n",
       "      <td>3</td>\n",
       "      <td>77.184516</td>\n",
       "      <td>33.8</td>\n",
       "      <td>25.5</td>\n",
       "      <td>39.000000</td>\n",
       "      <td>5.4</td>\n",
       "      <td>8.0</td>\n",
       "      <td>0</td>\n",
       "      <td>2007-04-01</td>\n",
       "    </tr>\n",
       "  </tbody>\n",
       "</table>\n",
       "</div>"
      ],
      "text/plain": [
       "   Year  Month station_name  elevation   humidity  TMPMAX  TMPMIN  \\\n",
       "0  2007      4   Batticaloa          8  90.100000    31.2    25.1   \n",
       "1  2007      4      Colombo          7  91.433333    31.7    24.8   \n",
       "2  2007      4        Galle         12  92.233333    30.8    24.9   \n",
       "3  2007      4      Gampaha          8  93.900000    31.8    24.3   \n",
       "4  2007      4       Jaffna          3  77.184516    33.8    25.5   \n",
       "\n",
       "   precipitation  wind_speed_8_30am  wind_speed_17_30pm  patients       Date  \n",
       "0     233.300000                1.9                 5.8        12 2007-04-01  \n",
       "1     374.100007                1.9                 5.0        35 2007-04-01  \n",
       "2     342.799994                4.1                 6.9         1 2007-04-01  \n",
       "3     249.899997                3.5                 7.7        16 2007-04-01  \n",
       "4      39.000000                5.4                 8.0         0 2007-04-01  "
      ]
     },
     "execution_count": 38,
     "metadata": {},
     "output_type": "execute_result"
    }
   ],
   "source": [
    "knn_df.head()"
   ]
  },
  {
   "cell_type": "markdown",
   "metadata": {},
   "source": [
    "### Iterative Imputer"
   ]
  },
  {
   "cell_type": "code",
   "execution_count": 39,
   "metadata": {},
   "outputs": [],
   "source": [
    "#TODO:  we have to look this approach as well\n",
    "from sklearn.experimental import enable_iterative_imputer  \n",
    "from sklearn.impute import IterativeImputer\n",
    "\n",
    "\n",
    "imp_mean = IterativeImputer(random_state=0)\n",
    "imp_df = imp_mean.fit_transform(df[['humidity', 'TMPMAX', 'TMPMIN', 'precipitation','wind_speed_8_30am', 'wind_speed_17_30pm']])"
   ]
  },
  {
   "cell_type": "markdown",
   "metadata": {},
   "source": [
    "## Encoding categorical data"
   ]
  },
  {
   "cell_type": "markdown",
   "metadata": {},
   "source": [
    "### Encoding the Station name Variable"
   ]
  },
  {
   "cell_type": "code",
   "execution_count": 40,
   "metadata": {},
   "outputs": [],
   "source": [
    "df_encoded = pd.get_dummies(knn_df, columns=['station_name'])\n",
    "\n",
    "# Assuming df_encoded is your dataframe after get_dummies\n",
    "bool_cols = [col for col in df_encoded.columns if df_encoded[col].dtype == np.dtype('bool')]\n",
    "df_encoded[bool_cols] = df_encoded[bool_cols].astype(float)\n"
   ]
  },
  {
   "cell_type": "code",
   "execution_count": 41,
   "metadata": {},
   "outputs": [
    {
     "data": {
      "text/html": [
       "<div>\n",
       "<style scoped>\n",
       "    .dataframe tbody tr th:only-of-type {\n",
       "        vertical-align: middle;\n",
       "    }\n",
       "\n",
       "    .dataframe tbody tr th {\n",
       "        vertical-align: top;\n",
       "    }\n",
       "\n",
       "    .dataframe thead th {\n",
       "        text-align: right;\n",
       "    }\n",
       "</style>\n",
       "<table border=\"1\" class=\"dataframe\">\n",
       "  <thead>\n",
       "    <tr style=\"text-align: right;\">\n",
       "      <th></th>\n",
       "      <th>Year</th>\n",
       "      <th>Month</th>\n",
       "      <th>elevation</th>\n",
       "      <th>humidity</th>\n",
       "      <th>TMPMAX</th>\n",
       "      <th>TMPMIN</th>\n",
       "      <th>precipitation</th>\n",
       "      <th>wind_speed_8_30am</th>\n",
       "      <th>wind_speed_17_30pm</th>\n",
       "      <th>patients</th>\n",
       "      <th>Date</th>\n",
       "      <th>station_name_Batticaloa</th>\n",
       "      <th>station_name_Colombo</th>\n",
       "      <th>station_name_Galle</th>\n",
       "      <th>station_name_Gampaha</th>\n",
       "      <th>station_name_Jaffna</th>\n",
       "      <th>station_name_Kandy</th>\n",
       "      <th>station_name_Kurunegala</th>\n",
       "      <th>station_name_Puttalam</th>\n",
       "      <th>station_name_Ratnapura</th>\n",
       "    </tr>\n",
       "  </thead>\n",
       "  <tbody>\n",
       "    <tr>\n",
       "      <th>0</th>\n",
       "      <td>2007</td>\n",
       "      <td>4</td>\n",
       "      <td>8</td>\n",
       "      <td>90.100000</td>\n",
       "      <td>31.2</td>\n",
       "      <td>25.1</td>\n",
       "      <td>233.300000</td>\n",
       "      <td>1.9</td>\n",
       "      <td>5.8</td>\n",
       "      <td>12</td>\n",
       "      <td>2007-04-01</td>\n",
       "      <td>1.0</td>\n",
       "      <td>0.0</td>\n",
       "      <td>0.0</td>\n",
       "      <td>0.0</td>\n",
       "      <td>0.0</td>\n",
       "      <td>0.0</td>\n",
       "      <td>0.0</td>\n",
       "      <td>0.0</td>\n",
       "      <td>0.0</td>\n",
       "    </tr>\n",
       "    <tr>\n",
       "      <th>1</th>\n",
       "      <td>2007</td>\n",
       "      <td>4</td>\n",
       "      <td>7</td>\n",
       "      <td>91.433333</td>\n",
       "      <td>31.7</td>\n",
       "      <td>24.8</td>\n",
       "      <td>374.100007</td>\n",
       "      <td>1.9</td>\n",
       "      <td>5.0</td>\n",
       "      <td>35</td>\n",
       "      <td>2007-04-01</td>\n",
       "      <td>0.0</td>\n",
       "      <td>1.0</td>\n",
       "      <td>0.0</td>\n",
       "      <td>0.0</td>\n",
       "      <td>0.0</td>\n",
       "      <td>0.0</td>\n",
       "      <td>0.0</td>\n",
       "      <td>0.0</td>\n",
       "      <td>0.0</td>\n",
       "    </tr>\n",
       "    <tr>\n",
       "      <th>2</th>\n",
       "      <td>2007</td>\n",
       "      <td>4</td>\n",
       "      <td>12</td>\n",
       "      <td>92.233333</td>\n",
       "      <td>30.8</td>\n",
       "      <td>24.9</td>\n",
       "      <td>342.799994</td>\n",
       "      <td>4.1</td>\n",
       "      <td>6.9</td>\n",
       "      <td>1</td>\n",
       "      <td>2007-04-01</td>\n",
       "      <td>0.0</td>\n",
       "      <td>0.0</td>\n",
       "      <td>1.0</td>\n",
       "      <td>0.0</td>\n",
       "      <td>0.0</td>\n",
       "      <td>0.0</td>\n",
       "      <td>0.0</td>\n",
       "      <td>0.0</td>\n",
       "      <td>0.0</td>\n",
       "    </tr>\n",
       "    <tr>\n",
       "      <th>3</th>\n",
       "      <td>2007</td>\n",
       "      <td>4</td>\n",
       "      <td>8</td>\n",
       "      <td>93.900000</td>\n",
       "      <td>31.8</td>\n",
       "      <td>24.3</td>\n",
       "      <td>249.899997</td>\n",
       "      <td>3.5</td>\n",
       "      <td>7.7</td>\n",
       "      <td>16</td>\n",
       "      <td>2007-04-01</td>\n",
       "      <td>0.0</td>\n",
       "      <td>0.0</td>\n",
       "      <td>0.0</td>\n",
       "      <td>1.0</td>\n",
       "      <td>0.0</td>\n",
       "      <td>0.0</td>\n",
       "      <td>0.0</td>\n",
       "      <td>0.0</td>\n",
       "      <td>0.0</td>\n",
       "    </tr>\n",
       "    <tr>\n",
       "      <th>4</th>\n",
       "      <td>2007</td>\n",
       "      <td>4</td>\n",
       "      <td>3</td>\n",
       "      <td>77.184516</td>\n",
       "      <td>33.8</td>\n",
       "      <td>25.5</td>\n",
       "      <td>39.000000</td>\n",
       "      <td>5.4</td>\n",
       "      <td>8.0</td>\n",
       "      <td>0</td>\n",
       "      <td>2007-04-01</td>\n",
       "      <td>0.0</td>\n",
       "      <td>0.0</td>\n",
       "      <td>0.0</td>\n",
       "      <td>0.0</td>\n",
       "      <td>1.0</td>\n",
       "      <td>0.0</td>\n",
       "      <td>0.0</td>\n",
       "      <td>0.0</td>\n",
       "      <td>0.0</td>\n",
       "    </tr>\n",
       "  </tbody>\n",
       "</table>\n",
       "</div>"
      ],
      "text/plain": [
       "   Year  Month  elevation   humidity  TMPMAX  TMPMIN  precipitation  \\\n",
       "0  2007      4          8  90.100000    31.2    25.1     233.300000   \n",
       "1  2007      4          7  91.433333    31.7    24.8     374.100007   \n",
       "2  2007      4         12  92.233333    30.8    24.9     342.799994   \n",
       "3  2007      4          8  93.900000    31.8    24.3     249.899997   \n",
       "4  2007      4          3  77.184516    33.8    25.5      39.000000   \n",
       "\n",
       "   wind_speed_8_30am  wind_speed_17_30pm  patients       Date  \\\n",
       "0                1.9                 5.8        12 2007-04-01   \n",
       "1                1.9                 5.0        35 2007-04-01   \n",
       "2                4.1                 6.9         1 2007-04-01   \n",
       "3                3.5                 7.7        16 2007-04-01   \n",
       "4                5.4                 8.0         0 2007-04-01   \n",
       "\n",
       "   station_name_Batticaloa  station_name_Colombo  station_name_Galle  \\\n",
       "0                      1.0                   0.0                 0.0   \n",
       "1                      0.0                   1.0                 0.0   \n",
       "2                      0.0                   0.0                 1.0   \n",
       "3                      0.0                   0.0                 0.0   \n",
       "4                      0.0                   0.0                 0.0   \n",
       "\n",
       "   station_name_Gampaha  station_name_Jaffna  station_name_Kandy  \\\n",
       "0                   0.0                  0.0                 0.0   \n",
       "1                   0.0                  0.0                 0.0   \n",
       "2                   0.0                  0.0                 0.0   \n",
       "3                   1.0                  0.0                 0.0   \n",
       "4                   0.0                  1.0                 0.0   \n",
       "\n",
       "   station_name_Kurunegala  station_name_Puttalam  station_name_Ratnapura  \n",
       "0                      0.0                    0.0                     0.0  \n",
       "1                      0.0                    0.0                     0.0  \n",
       "2                      0.0                    0.0                     0.0  \n",
       "3                      0.0                    0.0                     0.0  \n",
       "4                      0.0                    0.0                     0.0  "
      ]
     },
     "execution_count": 41,
     "metadata": {},
     "output_type": "execute_result"
    }
   ],
   "source": [
    "df_encoded.head()"
   ]
  },
  {
   "cell_type": "code",
   "execution_count": 42,
   "metadata": {},
   "outputs": [],
   "source": [
    "df_encoded.sort_values('Date', inplace=True)"
   ]
  },
  {
   "cell_type": "code",
   "execution_count": 43,
   "metadata": {},
   "outputs": [
    {
     "data": {
      "text/html": [
       "<div>\n",
       "<style scoped>\n",
       "    .dataframe tbody tr th:only-of-type {\n",
       "        vertical-align: middle;\n",
       "    }\n",
       "\n",
       "    .dataframe tbody tr th {\n",
       "        vertical-align: top;\n",
       "    }\n",
       "\n",
       "    .dataframe thead th {\n",
       "        text-align: right;\n",
       "    }\n",
       "</style>\n",
       "<table border=\"1\" class=\"dataframe\">\n",
       "  <thead>\n",
       "    <tr style=\"text-align: right;\">\n",
       "      <th></th>\n",
       "      <th>Year</th>\n",
       "      <th>Month</th>\n",
       "      <th>elevation</th>\n",
       "      <th>humidity</th>\n",
       "      <th>TMPMAX</th>\n",
       "      <th>TMPMIN</th>\n",
       "      <th>precipitation</th>\n",
       "      <th>wind_speed_8_30am</th>\n",
       "      <th>wind_speed_17_30pm</th>\n",
       "      <th>patients</th>\n",
       "      <th>Date</th>\n",
       "      <th>station_name_Batticaloa</th>\n",
       "      <th>station_name_Colombo</th>\n",
       "      <th>station_name_Galle</th>\n",
       "      <th>station_name_Gampaha</th>\n",
       "      <th>station_name_Jaffna</th>\n",
       "      <th>station_name_Kandy</th>\n",
       "      <th>station_name_Kurunegala</th>\n",
       "      <th>station_name_Puttalam</th>\n",
       "      <th>station_name_Ratnapura</th>\n",
       "    </tr>\n",
       "  </thead>\n",
       "  <tbody>\n",
       "    <tr>\n",
       "      <th>39</th>\n",
       "      <td>2007</td>\n",
       "      <td>1</td>\n",
       "      <td>8</td>\n",
       "      <td>85.838710</td>\n",
       "      <td>32.0</td>\n",
       "      <td>22.1</td>\n",
       "      <td>39.399999</td>\n",
       "      <td>12.5</td>\n",
       "      <td>14.50</td>\n",
       "      <td>64</td>\n",
       "      <td>2007-01-01</td>\n",
       "      <td>0.0</td>\n",
       "      <td>0.0</td>\n",
       "      <td>0.0</td>\n",
       "      <td>1.0</td>\n",
       "      <td>0.0</td>\n",
       "      <td>0.0</td>\n",
       "      <td>0.0</td>\n",
       "      <td>0.0</td>\n",
       "      <td>0.0</td>\n",
       "    </tr>\n",
       "    <tr>\n",
       "      <th>36</th>\n",
       "      <td>2007</td>\n",
       "      <td>1</td>\n",
       "      <td>8</td>\n",
       "      <td>82.064516</td>\n",
       "      <td>28.4</td>\n",
       "      <td>24.0</td>\n",
       "      <td>170.100004</td>\n",
       "      <td>8.6</td>\n",
       "      <td>10.10</td>\n",
       "      <td>0</td>\n",
       "      <td>2007-01-01</td>\n",
       "      <td>1.0</td>\n",
       "      <td>0.0</td>\n",
       "      <td>0.0</td>\n",
       "      <td>0.0</td>\n",
       "      <td>0.0</td>\n",
       "      <td>0.0</td>\n",
       "      <td>0.0</td>\n",
       "      <td>0.0</td>\n",
       "      <td>0.0</td>\n",
       "    </tr>\n",
       "    <tr>\n",
       "      <th>37</th>\n",
       "      <td>2007</td>\n",
       "      <td>1</td>\n",
       "      <td>7</td>\n",
       "      <td>82.258065</td>\n",
       "      <td>31.8</td>\n",
       "      <td>22.9</td>\n",
       "      <td>91.100001</td>\n",
       "      <td>5.7</td>\n",
       "      <td>6.00</td>\n",
       "      <td>244</td>\n",
       "      <td>2007-01-01</td>\n",
       "      <td>0.0</td>\n",
       "      <td>1.0</td>\n",
       "      <td>0.0</td>\n",
       "      <td>0.0</td>\n",
       "      <td>0.0</td>\n",
       "      <td>0.0</td>\n",
       "      <td>0.0</td>\n",
       "      <td>0.0</td>\n",
       "      <td>0.0</td>\n",
       "    </tr>\n",
       "    <tr>\n",
       "      <th>38</th>\n",
       "      <td>2007</td>\n",
       "      <td>1</td>\n",
       "      <td>12</td>\n",
       "      <td>89.612903</td>\n",
       "      <td>29.6</td>\n",
       "      <td>23.3</td>\n",
       "      <td>78.200000</td>\n",
       "      <td>2.2</td>\n",
       "      <td>6.90</td>\n",
       "      <td>22</td>\n",
       "      <td>2007-01-01</td>\n",
       "      <td>0.0</td>\n",
       "      <td>0.0</td>\n",
       "      <td>1.0</td>\n",
       "      <td>0.0</td>\n",
       "      <td>0.0</td>\n",
       "      <td>0.0</td>\n",
       "      <td>0.0</td>\n",
       "      <td>0.0</td>\n",
       "      <td>0.0</td>\n",
       "    </tr>\n",
       "    <tr>\n",
       "      <th>40</th>\n",
       "      <td>2007</td>\n",
       "      <td>1</td>\n",
       "      <td>3</td>\n",
       "      <td>81.886667</td>\n",
       "      <td>29.7</td>\n",
       "      <td>22.2</td>\n",
       "      <td>12.500000</td>\n",
       "      <td>5.3</td>\n",
       "      <td>7.12</td>\n",
       "      <td>0</td>\n",
       "      <td>2007-01-01</td>\n",
       "      <td>0.0</td>\n",
       "      <td>0.0</td>\n",
       "      <td>0.0</td>\n",
       "      <td>0.0</td>\n",
       "      <td>1.0</td>\n",
       "      <td>0.0</td>\n",
       "      <td>0.0</td>\n",
       "      <td>0.0</td>\n",
       "      <td>0.0</td>\n",
       "    </tr>\n",
       "  </tbody>\n",
       "</table>\n",
       "</div>"
      ],
      "text/plain": [
       "    Year  Month  elevation   humidity  TMPMAX  TMPMIN  precipitation  \\\n",
       "39  2007      1          8  85.838710    32.0    22.1      39.399999   \n",
       "36  2007      1          8  82.064516    28.4    24.0     170.100004   \n",
       "37  2007      1          7  82.258065    31.8    22.9      91.100001   \n",
       "38  2007      1         12  89.612903    29.6    23.3      78.200000   \n",
       "40  2007      1          3  81.886667    29.7    22.2      12.500000   \n",
       "\n",
       "    wind_speed_8_30am  wind_speed_17_30pm  patients       Date  \\\n",
       "39               12.5               14.50        64 2007-01-01   \n",
       "36                8.6               10.10         0 2007-01-01   \n",
       "37                5.7                6.00       244 2007-01-01   \n",
       "38                2.2                6.90        22 2007-01-01   \n",
       "40                5.3                7.12         0 2007-01-01   \n",
       "\n",
       "    station_name_Batticaloa  station_name_Colombo  station_name_Galle  \\\n",
       "39                      0.0                   0.0                 0.0   \n",
       "36                      1.0                   0.0                 0.0   \n",
       "37                      0.0                   1.0                 0.0   \n",
       "38                      0.0                   0.0                 1.0   \n",
       "40                      0.0                   0.0                 0.0   \n",
       "\n",
       "    station_name_Gampaha  station_name_Jaffna  station_name_Kandy  \\\n",
       "39                   1.0                  0.0                 0.0   \n",
       "36                   0.0                  0.0                 0.0   \n",
       "37                   0.0                  0.0                 0.0   \n",
       "38                   0.0                  0.0                 0.0   \n",
       "40                   0.0                  1.0                 0.0   \n",
       "\n",
       "    station_name_Kurunegala  station_name_Puttalam  station_name_Ratnapura  \n",
       "39                      0.0                    0.0                     0.0  \n",
       "36                      0.0                    0.0                     0.0  \n",
       "37                      0.0                    0.0                     0.0  \n",
       "38                      0.0                    0.0                     0.0  \n",
       "40                      0.0                    0.0                     0.0  "
      ]
     },
     "execution_count": 43,
     "metadata": {},
     "output_type": "execute_result"
    }
   ],
   "source": [
    "df_encoded.head()"
   ]
  },
  {
   "cell_type": "code",
   "execution_count": 44,
   "metadata": {},
   "outputs": [],
   "source": [
    "# drop the elevation coulmn since we encoded the station name coulmn \n",
    "df_encoded.dropna()\n",
    "df_encoded.drop(columns=['Date', 'Year','Month','elevation'], inplace=True)"
   ]
  },
  {
   "cell_type": "code",
   "execution_count": 45,
   "metadata": {},
   "outputs": [
    {
     "data": {
      "text/html": [
       "<div>\n",
       "<style scoped>\n",
       "    .dataframe tbody tr th:only-of-type {\n",
       "        vertical-align: middle;\n",
       "    }\n",
       "\n",
       "    .dataframe tbody tr th {\n",
       "        vertical-align: top;\n",
       "    }\n",
       "\n",
       "    .dataframe thead th {\n",
       "        text-align: right;\n",
       "    }\n",
       "</style>\n",
       "<table border=\"1\" class=\"dataframe\">\n",
       "  <thead>\n",
       "    <tr style=\"text-align: right;\">\n",
       "      <th></th>\n",
       "      <th>humidity</th>\n",
       "      <th>TMPMAX</th>\n",
       "      <th>TMPMIN</th>\n",
       "      <th>precipitation</th>\n",
       "      <th>wind_speed_8_30am</th>\n",
       "      <th>wind_speed_17_30pm</th>\n",
       "      <th>patients</th>\n",
       "      <th>station_name_Batticaloa</th>\n",
       "      <th>station_name_Colombo</th>\n",
       "      <th>station_name_Galle</th>\n",
       "      <th>station_name_Gampaha</th>\n",
       "      <th>station_name_Jaffna</th>\n",
       "      <th>station_name_Kandy</th>\n",
       "      <th>station_name_Kurunegala</th>\n",
       "      <th>station_name_Puttalam</th>\n",
       "      <th>station_name_Ratnapura</th>\n",
       "    </tr>\n",
       "  </thead>\n",
       "  <tbody>\n",
       "    <tr>\n",
       "      <th>39</th>\n",
       "      <td>85.838710</td>\n",
       "      <td>32.0</td>\n",
       "      <td>22.1</td>\n",
       "      <td>39.399999</td>\n",
       "      <td>12.5</td>\n",
       "      <td>14.50</td>\n",
       "      <td>64</td>\n",
       "      <td>0.0</td>\n",
       "      <td>0.0</td>\n",
       "      <td>0.0</td>\n",
       "      <td>1.0</td>\n",
       "      <td>0.0</td>\n",
       "      <td>0.0</td>\n",
       "      <td>0.0</td>\n",
       "      <td>0.0</td>\n",
       "      <td>0.0</td>\n",
       "    </tr>\n",
       "    <tr>\n",
       "      <th>36</th>\n",
       "      <td>82.064516</td>\n",
       "      <td>28.4</td>\n",
       "      <td>24.0</td>\n",
       "      <td>170.100004</td>\n",
       "      <td>8.6</td>\n",
       "      <td>10.10</td>\n",
       "      <td>0</td>\n",
       "      <td>1.0</td>\n",
       "      <td>0.0</td>\n",
       "      <td>0.0</td>\n",
       "      <td>0.0</td>\n",
       "      <td>0.0</td>\n",
       "      <td>0.0</td>\n",
       "      <td>0.0</td>\n",
       "      <td>0.0</td>\n",
       "      <td>0.0</td>\n",
       "    </tr>\n",
       "    <tr>\n",
       "      <th>37</th>\n",
       "      <td>82.258065</td>\n",
       "      <td>31.8</td>\n",
       "      <td>22.9</td>\n",
       "      <td>91.100001</td>\n",
       "      <td>5.7</td>\n",
       "      <td>6.00</td>\n",
       "      <td>244</td>\n",
       "      <td>0.0</td>\n",
       "      <td>1.0</td>\n",
       "      <td>0.0</td>\n",
       "      <td>0.0</td>\n",
       "      <td>0.0</td>\n",
       "      <td>0.0</td>\n",
       "      <td>0.0</td>\n",
       "      <td>0.0</td>\n",
       "      <td>0.0</td>\n",
       "    </tr>\n",
       "    <tr>\n",
       "      <th>38</th>\n",
       "      <td>89.612903</td>\n",
       "      <td>29.6</td>\n",
       "      <td>23.3</td>\n",
       "      <td>78.200000</td>\n",
       "      <td>2.2</td>\n",
       "      <td>6.90</td>\n",
       "      <td>22</td>\n",
       "      <td>0.0</td>\n",
       "      <td>0.0</td>\n",
       "      <td>1.0</td>\n",
       "      <td>0.0</td>\n",
       "      <td>0.0</td>\n",
       "      <td>0.0</td>\n",
       "      <td>0.0</td>\n",
       "      <td>0.0</td>\n",
       "      <td>0.0</td>\n",
       "    </tr>\n",
       "    <tr>\n",
       "      <th>40</th>\n",
       "      <td>81.886667</td>\n",
       "      <td>29.7</td>\n",
       "      <td>22.2</td>\n",
       "      <td>12.500000</td>\n",
       "      <td>5.3</td>\n",
       "      <td>7.12</td>\n",
       "      <td>0</td>\n",
       "      <td>0.0</td>\n",
       "      <td>0.0</td>\n",
       "      <td>0.0</td>\n",
       "      <td>0.0</td>\n",
       "      <td>1.0</td>\n",
       "      <td>0.0</td>\n",
       "      <td>0.0</td>\n",
       "      <td>0.0</td>\n",
       "      <td>0.0</td>\n",
       "    </tr>\n",
       "  </tbody>\n",
       "</table>\n",
       "</div>"
      ],
      "text/plain": [
       "     humidity  TMPMAX  TMPMIN  precipitation  wind_speed_8_30am  \\\n",
       "39  85.838710    32.0    22.1      39.399999               12.5   \n",
       "36  82.064516    28.4    24.0     170.100004                8.6   \n",
       "37  82.258065    31.8    22.9      91.100001                5.7   \n",
       "38  89.612903    29.6    23.3      78.200000                2.2   \n",
       "40  81.886667    29.7    22.2      12.500000                5.3   \n",
       "\n",
       "    wind_speed_17_30pm  patients  station_name_Batticaloa  \\\n",
       "39               14.50        64                      0.0   \n",
       "36               10.10         0                      1.0   \n",
       "37                6.00       244                      0.0   \n",
       "38                6.90        22                      0.0   \n",
       "40                7.12         0                      0.0   \n",
       "\n",
       "    station_name_Colombo  station_name_Galle  station_name_Gampaha  \\\n",
       "39                   0.0                 0.0                   1.0   \n",
       "36                   0.0                 0.0                   0.0   \n",
       "37                   1.0                 0.0                   0.0   \n",
       "38                   0.0                 1.0                   0.0   \n",
       "40                   0.0                 0.0                   0.0   \n",
       "\n",
       "    station_name_Jaffna  station_name_Kandy  station_name_Kurunegala  \\\n",
       "39                  0.0                 0.0                      0.0   \n",
       "36                  0.0                 0.0                      0.0   \n",
       "37                  0.0                 0.0                      0.0   \n",
       "38                  0.0                 0.0                      0.0   \n",
       "40                  1.0                 0.0                      0.0   \n",
       "\n",
       "    station_name_Puttalam  station_name_Ratnapura  \n",
       "39                    0.0                     0.0  \n",
       "36                    0.0                     0.0  \n",
       "37                    0.0                     0.0  \n",
       "38                    0.0                     0.0  \n",
       "40                    0.0                     0.0  "
      ]
     },
     "execution_count": 45,
     "metadata": {},
     "output_type": "execute_result"
    }
   ],
   "source": [
    "df_encoded.head()"
   ]
  },
  {
   "cell_type": "code",
   "execution_count": 46,
   "metadata": {},
   "outputs": [],
   "source": [
    "df_encoded = df_encoded.iloc[:, [7,8,9,10,11,12,13,14,15,0,1,2,3,4,5,6]]"
   ]
  },
  {
   "cell_type": "code",
   "execution_count": 47,
   "metadata": {},
   "outputs": [
    {
     "data": {
      "text/html": [
       "<div>\n",
       "<style scoped>\n",
       "    .dataframe tbody tr th:only-of-type {\n",
       "        vertical-align: middle;\n",
       "    }\n",
       "\n",
       "    .dataframe tbody tr th {\n",
       "        vertical-align: top;\n",
       "    }\n",
       "\n",
       "    .dataframe thead th {\n",
       "        text-align: right;\n",
       "    }\n",
       "</style>\n",
       "<table border=\"1\" class=\"dataframe\">\n",
       "  <thead>\n",
       "    <tr style=\"text-align: right;\">\n",
       "      <th></th>\n",
       "      <th>station_name_Batticaloa</th>\n",
       "      <th>station_name_Colombo</th>\n",
       "      <th>station_name_Galle</th>\n",
       "      <th>station_name_Gampaha</th>\n",
       "      <th>station_name_Jaffna</th>\n",
       "      <th>station_name_Kandy</th>\n",
       "      <th>station_name_Kurunegala</th>\n",
       "      <th>station_name_Puttalam</th>\n",
       "      <th>station_name_Ratnapura</th>\n",
       "      <th>humidity</th>\n",
       "      <th>TMPMAX</th>\n",
       "      <th>TMPMIN</th>\n",
       "      <th>precipitation</th>\n",
       "      <th>wind_speed_8_30am</th>\n",
       "      <th>wind_speed_17_30pm</th>\n",
       "      <th>patients</th>\n",
       "    </tr>\n",
       "  </thead>\n",
       "  <tbody>\n",
       "    <tr>\n",
       "      <th>39</th>\n",
       "      <td>0.0</td>\n",
       "      <td>0.0</td>\n",
       "      <td>0.0</td>\n",
       "      <td>1.0</td>\n",
       "      <td>0.0</td>\n",
       "      <td>0.0</td>\n",
       "      <td>0.0</td>\n",
       "      <td>0.0</td>\n",
       "      <td>0.0</td>\n",
       "      <td>85.838710</td>\n",
       "      <td>32.0</td>\n",
       "      <td>22.1</td>\n",
       "      <td>39.399999</td>\n",
       "      <td>12.5</td>\n",
       "      <td>14.50</td>\n",
       "      <td>64</td>\n",
       "    </tr>\n",
       "    <tr>\n",
       "      <th>36</th>\n",
       "      <td>1.0</td>\n",
       "      <td>0.0</td>\n",
       "      <td>0.0</td>\n",
       "      <td>0.0</td>\n",
       "      <td>0.0</td>\n",
       "      <td>0.0</td>\n",
       "      <td>0.0</td>\n",
       "      <td>0.0</td>\n",
       "      <td>0.0</td>\n",
       "      <td>82.064516</td>\n",
       "      <td>28.4</td>\n",
       "      <td>24.0</td>\n",
       "      <td>170.100004</td>\n",
       "      <td>8.6</td>\n",
       "      <td>10.10</td>\n",
       "      <td>0</td>\n",
       "    </tr>\n",
       "    <tr>\n",
       "      <th>37</th>\n",
       "      <td>0.0</td>\n",
       "      <td>1.0</td>\n",
       "      <td>0.0</td>\n",
       "      <td>0.0</td>\n",
       "      <td>0.0</td>\n",
       "      <td>0.0</td>\n",
       "      <td>0.0</td>\n",
       "      <td>0.0</td>\n",
       "      <td>0.0</td>\n",
       "      <td>82.258065</td>\n",
       "      <td>31.8</td>\n",
       "      <td>22.9</td>\n",
       "      <td>91.100001</td>\n",
       "      <td>5.7</td>\n",
       "      <td>6.00</td>\n",
       "      <td>244</td>\n",
       "    </tr>\n",
       "    <tr>\n",
       "      <th>38</th>\n",
       "      <td>0.0</td>\n",
       "      <td>0.0</td>\n",
       "      <td>1.0</td>\n",
       "      <td>0.0</td>\n",
       "      <td>0.0</td>\n",
       "      <td>0.0</td>\n",
       "      <td>0.0</td>\n",
       "      <td>0.0</td>\n",
       "      <td>0.0</td>\n",
       "      <td>89.612903</td>\n",
       "      <td>29.6</td>\n",
       "      <td>23.3</td>\n",
       "      <td>78.200000</td>\n",
       "      <td>2.2</td>\n",
       "      <td>6.90</td>\n",
       "      <td>22</td>\n",
       "    </tr>\n",
       "    <tr>\n",
       "      <th>40</th>\n",
       "      <td>0.0</td>\n",
       "      <td>0.0</td>\n",
       "      <td>0.0</td>\n",
       "      <td>0.0</td>\n",
       "      <td>1.0</td>\n",
       "      <td>0.0</td>\n",
       "      <td>0.0</td>\n",
       "      <td>0.0</td>\n",
       "      <td>0.0</td>\n",
       "      <td>81.886667</td>\n",
       "      <td>29.7</td>\n",
       "      <td>22.2</td>\n",
       "      <td>12.500000</td>\n",
       "      <td>5.3</td>\n",
       "      <td>7.12</td>\n",
       "      <td>0</td>\n",
       "    </tr>\n",
       "  </tbody>\n",
       "</table>\n",
       "</div>"
      ],
      "text/plain": [
       "    station_name_Batticaloa  station_name_Colombo  station_name_Galle  \\\n",
       "39                      0.0                   0.0                 0.0   \n",
       "36                      1.0                   0.0                 0.0   \n",
       "37                      0.0                   1.0                 0.0   \n",
       "38                      0.0                   0.0                 1.0   \n",
       "40                      0.0                   0.0                 0.0   \n",
       "\n",
       "    station_name_Gampaha  station_name_Jaffna  station_name_Kandy  \\\n",
       "39                   1.0                  0.0                 0.0   \n",
       "36                   0.0                  0.0                 0.0   \n",
       "37                   0.0                  0.0                 0.0   \n",
       "38                   0.0                  0.0                 0.0   \n",
       "40                   0.0                  1.0                 0.0   \n",
       "\n",
       "    station_name_Kurunegala  station_name_Puttalam  station_name_Ratnapura  \\\n",
       "39                      0.0                    0.0                     0.0   \n",
       "36                      0.0                    0.0                     0.0   \n",
       "37                      0.0                    0.0                     0.0   \n",
       "38                      0.0                    0.0                     0.0   \n",
       "40                      0.0                    0.0                     0.0   \n",
       "\n",
       "     humidity  TMPMAX  TMPMIN  precipitation  wind_speed_8_30am  \\\n",
       "39  85.838710    32.0    22.1      39.399999               12.5   \n",
       "36  82.064516    28.4    24.0     170.100004                8.6   \n",
       "37  82.258065    31.8    22.9      91.100001                5.7   \n",
       "38  89.612903    29.6    23.3      78.200000                2.2   \n",
       "40  81.886667    29.7    22.2      12.500000                5.3   \n",
       "\n",
       "    wind_speed_17_30pm  patients  \n",
       "39               14.50        64  \n",
       "36               10.10         0  \n",
       "37                6.00       244  \n",
       "38                6.90        22  \n",
       "40                7.12         0  "
      ]
     },
     "execution_count": 47,
     "metadata": {},
     "output_type": "execute_result"
    }
   ],
   "source": [
    "df_encoded.head()"
   ]
  },
  {
   "cell_type": "markdown",
   "metadata": {},
   "source": [
    "## Splitting the dataset into the Training set and Test set"
   ]
  },
  {
   "cell_type": "code",
   "execution_count": 48,
   "metadata": {},
   "outputs": [],
   "source": [
    "# train-test split for time series\n",
    "train_size = int(len(df_encoded) * 0.9)\n",
    "test_size = len(df_encoded) - train_size\n",
    "train_data, test_data = df_encoded[:train_size], df_encoded[train_size:]"
   ]
  },
  {
   "cell_type": "code",
   "execution_count": 136,
   "metadata": {},
   "outputs": [],
   "source": [
    "# from sklearn.model_selection import train_test_split\n",
    "# train_data, test_data = train_test_split(df_encoded, test_size = 0.2, random_state = 0)"
   ]
  },
  {
   "cell_type": "code",
   "execution_count": 49,
   "metadata": {},
   "outputs": [
    {
     "data": {
      "text/plain": [
       "(1836, 16)"
      ]
     },
     "execution_count": 49,
     "metadata": {},
     "output_type": "execute_result"
    }
   ],
   "source": [
    "df_encoded.shape"
   ]
  },
  {
   "cell_type": "code",
   "execution_count": 50,
   "metadata": {},
   "outputs": [
    {
     "data": {
      "text/plain": [
       "(1652, 16)"
      ]
     },
     "execution_count": 50,
     "metadata": {},
     "output_type": "execute_result"
    }
   ],
   "source": [
    "train_data.shape"
   ]
  },
  {
   "cell_type": "code",
   "execution_count": 51,
   "metadata": {},
   "outputs": [
    {
     "data": {
      "text/plain": [
       "(184, 16)"
      ]
     },
     "execution_count": 51,
     "metadata": {},
     "output_type": "execute_result"
    }
   ],
   "source": [
    "test_data.shape"
   ]
  },
  {
   "cell_type": "markdown",
   "metadata": {},
   "source": [
    "# Model Training - CNN\n"
   ]
  },
  {
   "cell_type": "markdown",
   "metadata": {},
   "source": [
    "## Importing the libraries"
   ]
  },
  {
   "cell_type": "code",
   "execution_count": 52,
   "metadata": {},
   "outputs": [],
   "source": [
    "# multivariate data preparation\n",
    "from numpy import array\n",
    "from numpy import hstack\n",
    "from numpy import array\n",
    "import numpy as np\n",
    "from tensorflow.keras.models import Sequential      #type: ignore\n",
    "from tensorflow.keras.layers import Dense           #type: ignore\n",
    "from tensorflow.keras.layers import Flatten         #type: ignore\n",
    "from tensorflow.keras.layers import Conv1D          #type: ignore\n",
    "from tensorflow.keras.layers import MaxPooling1D    #type: ignore\n",
    "from sklearn.metrics import mean_squared_error"
   ]
  },
  {
   "cell_type": "code",
   "execution_count": 53,
   "metadata": {},
   "outputs": [],
   "source": [
    "# split a multivariate sequence into samples\n",
    "def split_sequences(sequences, n_steps):\n",
    "  X, y = list(), list()\n",
    "  for i in range(len(sequences)):\n",
    "    # find the end of this pattern\n",
    "    end_ix = i + n_steps\n",
    "    # check if we are beyond the dataset\n",
    "    if end_ix > len(sequences):\n",
    "      break\n",
    "    # gather input and output parts of the pattern\n",
    "    seq_x, seq_y = sequences[i:end_ix, :-1], sequences[end_ix-1, -1]\n",
    "    X.append(seq_x)\n",
    "    y.append(seq_y)\n",
    "  return array(X), array(y)"
   ]
  },
  {
   "cell_type": "code",
   "execution_count": 54,
   "metadata": {},
   "outputs": [],
   "source": [
    "# Convert DataFrame to NumPy array\n",
    "train_data_array = train_data.values"
   ]
  },
  {
   "cell_type": "code",
   "execution_count": 55,
   "metadata": {},
   "outputs": [
    {
     "name": "stdout",
     "output_type": "stream",
     "text": [
      "[[  0.    0.    0.  ...  12.5  14.5  64. ]\n",
      " [  1.    0.    0.  ...   8.6  10.1   0. ]\n",
      " [  0.    1.    0.  ...   5.7   6.  244. ]\n",
      " ...\n",
      " [  0.    0.    0.  ...   0.5   1.2  93. ]\n",
      " [  0.    0.    0.  ...   5.6  10.7 213. ]\n",
      " [  0.    0.    1.  ...   1.3   2.6 115. ]]\n"
     ]
    },
    {
     "data": {
      "text/plain": [
       "(1652, 16)"
      ]
     },
     "execution_count": 55,
     "metadata": {},
     "output_type": "execute_result"
    }
   ],
   "source": [
    "print(train_data_array)\n",
    "train_data_array.shape"
   ]
  },
  {
   "cell_type": "code",
   "execution_count": 109,
   "metadata": {},
   "outputs": [
    {
     "name": "stdout",
     "output_type": "stream",
     "text": [
      "(1361, 108, 15) (1361,)\n"
     ]
    }
   ],
   "source": [
    "n_steps = 108     # choose a number of time steps\n",
    "X_train, y_train = split_sequences(train_data_array, n_steps)        # convert into input/output\n",
    "n_features = X_train.shape[2]     # the dataset knows the number of features\n",
    "print(X_train.shape, y_train.shape)"
   ]
  },
  {
   "cell_type": "markdown",
   "metadata": {},
   "source": [
    "## Building the CNN"
   ]
  },
  {
   "cell_type": "code",
   "execution_count": 110,
   "metadata": {},
   "outputs": [
    {
     "name": "stderr",
     "output_type": "stream",
     "text": [
      "c:\\Users\\User\\AppData\\Local\\Programs\\Python\\Python312\\Lib\\site-packages\\keras\\src\\layers\\convolutional\\base_conv.py:99: UserWarning: Do not pass an `input_shape`/`input_dim` argument to a layer. When using Sequential models, prefer using an `Input(shape)` object as the first layer in the model instead.\n",
      "  super().__init__(\n"
     ]
    }
   ],
   "source": [
    "# define model\n",
    "model = Sequential()\n",
    "model.add(Conv1D(filters=64, kernel_size=2, activation='relu', input_shape=(n_steps, n_features)))\n",
    "model.add(MaxPooling1D(pool_size=2))\n",
    "model.add(Flatten())\n",
    "model.add(Dense(50, activation='relu'))\n",
    "model.add(Dense(1))\n",
    "model.compile(optimizer='adam', loss='mse')"
   ]
  },
  {
   "cell_type": "code",
   "execution_count": 111,
   "metadata": {},
   "outputs": [
    {
     "data": {
      "text/plain": [
       "<keras.src.callbacks.history.History at 0x2294f95ec30>"
      ]
     },
     "execution_count": 111,
     "metadata": {},
     "output_type": "execute_result"
    }
   ],
   "source": [
    "# fit model\n",
    "model.fit(X_train, y_train, epochs=1000, verbose=0)"
   ]
  },
  {
   "cell_type": "code",
   "execution_count": 112,
   "metadata": {},
   "outputs": [
    {
     "name": "stdout",
     "output_type": "stream",
     "text": [
      "(261, 108, 15) (261,)\n"
     ]
    }
   ],
   "source": [
    "# Convert the test data into the same format as the training data\n",
    "X_test, y_test = split_sequences(test_data.values, n_steps)\n",
    "print(X_test.shape, y_test.shape)"
   ]
  },
  {
   "cell_type": "code",
   "execution_count": 141,
   "metadata": {},
   "outputs": [
    {
     "name": "stdout",
     "output_type": "stream",
     "text": [
      "\u001b[1m9/9\u001b[0m \u001b[32m━━━━━━━━━━━━━━━━━━━━\u001b[0m\u001b[37m\u001b[0m \u001b[1m0s\u001b[0m 21ms/step\n",
      "Root Mean Squared Error (RMSE): 495.84383714870756\n"
     ]
    }
   ],
   "source": [
    "# Make predictions on the test data\n",
    "y_pred = model.predict(X_test)\n",
    "\n",
    "# Calculate the accuracy metric (e.g., mean squared error)\n",
    "mse = mean_squared_error(y_test, y_pred)\n",
    "rmse = np.sqrt(mse)\n",
    "\n",
    "print(\"Root Mean Squared Error (RMSE):\", rmse)"
   ]
  }
 ],
 "metadata": {
  "kernelspec": {
   "display_name": "Python 3",
   "language": "python",
   "name": "python3"
  },
  "language_info": {
   "codemirror_mode": {
    "name": "ipython",
    "version": 3
   },
   "file_extension": ".py",
   "mimetype": "text/x-python",
   "name": "python",
   "nbconvert_exporter": "python",
   "pygments_lexer": "ipython3",
   "version": "3.12.0"
  }
 },
 "nbformat": 4,
 "nbformat_minor": 2
}
